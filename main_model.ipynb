{
 "cells": [
  {
   "cell_type": "code",
   "execution_count": 3,
   "id": "25f08ec5",
   "metadata": {},
   "outputs": [],
   "source": [
    "import pandas as pd\n",
    "import numpy as np\n",
    "import gurobipy as gp\n",
    "from gurobipy import GRB\n",
    "import os"
   ]
  },
  {
   "cell_type": "markdown",
   "id": "693d4084",
   "metadata": {},
   "source": [
    "### Loading Data"
   ]
  },
  {
   "cell_type": "code",
   "execution_count": 36,
   "id": "c2f622b8",
   "metadata": {},
   "outputs": [],
   "source": [
    "project_root = os.path.abspath(os.getcwd())\n",
    "\n",
    "data_dir = os.path.join(project_root, 'data')\n",
    "\n",
    "# Summer month\n",
    "\n",
    "p_summer = pd.read_csv(os.path.join(data_dir, 'Spotmarket_August_2024.csv'),sep=';')\n",
    "\n",
    "# Winter month\n",
    "\n",
    "p_winter = pd.read_csv(os.path.join(data_dir, 'Spotmarket_December_2024.csv'),sep=';')\n",
    "\n",
    "#Spotmarket data from: https://energy-charts.info/charts/price_spot_market/chart.htm?l=en&c=CH&interval=month&year=2024&legendItems=by4&month=12\n"
   ]
  },
  {
   "cell_type": "markdown",
   "id": "609026c7",
   "metadata": {},
   "source": [
    "\n",
    "### TV consumption data estimated with ChatGPT and based on the following assumptions: \n",
    "Weekdays: TV watched between 7–10 PM,\n",
    "Champions League (Tue/Wed): 8–11 PM, increased consumption,\n",
    "Daily news broadcast: every day at 8 PM,\n",
    "Weekends: longer evening use, possible sports at midday,\n",
    "December: morning TV (7–8 AM), ski races (12–1 PM)"
   ]
  },
  {
   "cell_type": "code",
   "execution_count": 37,
   "id": "2ca11976",
   "metadata": {},
   "outputs": [],
   "source": [
    "#TV consumption data for summer month\n",
    "tv_summer = pd.read_csv(os.path.join(data_dir, 'tv_consumption_august_2024_detailed.csv'), sep=';')\n",
    "\n",
    "#TV consumption data for winter month\n",
    "tv_winter = pd.read_csv(os.path.join(data_dir, 'tv_consumption_december_2024_detailed.csv'), sep=';')\n"
   ]
  },
  {
   "cell_type": "markdown",
   "id": "6504147d",
   "metadata": {},
   "source": [
    "### Lighting consumption data estimated with ChatGPT and based on the following assumptions:\n",
    "\n",
    "Lighting: 10 LED lamps at 10 W each → 0.1 kWh per hour when active\n",
    "Winter months (e.g. December):\n",
    "Evening usage (5–11 PM): probability ~80%,\n",
    "Morning usage (6–8 AM): ~40%,\n",
    "Daytime usage on weekends: ~20%,\n",
    "Summer months (e.g. August):\n",
    "Usage mostly in late evenings (9–11 PM): ~50%,\n",
    "Less morning usage,\n",
    "Weekdays: reduced daytime probability (~20% of base) as people are often not at home."
   ]
  },
  {
   "cell_type": "code",
   "execution_count": 38,
   "id": "810f398d",
   "metadata": {},
   "outputs": [],
   "source": [
    "#lighting consumption data for summer month\n",
    "lighting_summer = pd.read_csv(os.path.join(data_dir, 'lighting_consumption_august_2024.csv'), sep=';')\n",
    "#lighting consumption data for winter month\n",
    "lighting_winter = pd.read_csv(os.path.join(data_dir, 'lighting_consumption_december_2024.csv'), sep=';')"
   ]
  },
  {
   "cell_type": "code",
   "execution_count": null,
   "id": "d45b59a5",
   "metadata": {},
   "outputs": [],
   "source": []
  },
  {
   "cell_type": "markdown",
   "id": "c03d3093",
   "metadata": {},
   "source": [
    "### Fridge consumption:\n",
    "\n",
    "Data for a fridge based on the profile from https://app.data-archive.ethz.ch/delivery/DeliveryManagerServlet?dps_pid=IE594964 and then aggregated to hourly values for the months december and August"
   ]
  },
  {
   "cell_type": "code",
   "execution_count": 42,
   "id": "33289779",
   "metadata": {},
   "outputs": [],
   "source": [
    "#lighting consumption data for summer month\n",
    "fridge_summer = pd.read_csv(os.path.join(data_dir, 'fridge_August.csv'))\n",
    "#lighting consumption data for winter month\n",
    "fridge_winter = pd.read_csv(os.path.join(data_dir, 'fridge_December.csv'))"
   ]
  },
  {
   "cell_type": "code",
   "execution_count": 43,
   "id": "70a6b56e",
   "metadata": {},
   "outputs": [],
   "source": [
    "#get column names\n",
    "p_summer.columns = p_summer.columns.str.replace(' ', '_')\n",
    "p_winter.columns = p_winter.columns.str.replace(' ', '_')\n",
    "tv_summer.columns = tv_summer.columns.str.replace(' ', '_')\n",
    "tv_winter.columns = tv_winter.columns.str.replace(' ', '_')\n",
    "lighting_summer.columns = lighting_summer.columns.str.replace(' ', '_')\n",
    "lighting_winter.columns = lighting_winter.columns.str.replace(' ', '_')\n"
   ]
  },
  {
   "cell_type": "markdown",
   "id": "32d2b1ea",
   "metadata": {},
   "source": [
    "### Optimization"
   ]
  },
  {
   "cell_type": "code",
   "execution_count": null,
   "id": "cb759801",
   "metadata": {},
   "outputs": [],
   "source": [
    "import pandas as pd\n",
    "import gurobipy as gp\n",
    "from gurobipy import GRB\n",
    "\n",
    "# Load data\n",
    "price = p_summer[\"Price (EUR/MWh)\"].values\n",
    "fridge = fridge_summer[\"Energy_kWh_1h\"].values\n",
    "#stove = df[\"Stove\"].values\n",
    "tv = tv_summer[\"tv_power_kWh\"].values\n",
    "lighting = lighting_summer[\"lighting_power_kWh\"].values\n",
    "\n",
    "Time_interval = len(price)\n",
    "\n",
    "# Dishwasher properties\n",
    "duration = 3  # hours of operation\n",
    "min_gap = 15  # hours between runs\n",
    "power_dishwasher = 1.5  # kW during operation\n",
    "\n",
    "# Gurobi model\n",
    "model = gp.Model(\"automated_demand_response\")\n",
    "\n",
    "# Binary start variables: 1 if dishwasher starts at hour t\n",
    "start_times = range(Time_interval - duration + 1)\n",
    "dishwasher_start = model.addVars(start_times, vtype=GRB.BINARY, name=\"start\")\n",
    "\n",
    "# Binary on variables: 1 if dishwasher is on at hour t\n",
    "binary_dishwasher = model.addVars(Time_interval, vtype=GRB.BINARY, name=\"on\")\n",
    "\n",
    "# Link start and operation: if s[t]=1, then x[t] to x[t+2] = 1\n",
    "for t in range(start_times):\n",
    "    for k in range(duration):\n",
    "        model.addConstr(binary_dishwasher[t + k] >= dishwasher_start[t], name=f\"dishwasher_{t}_{k}\")\n",
    "\n",
    "# Enforce max 1 run per day\n",
    "#adds up all possible start times of the dishwasher in a single and '<= 1' day ensures that the dishwasher can be started at most once per day.\n",
    "hours_per_day = 24\n",
    "days = Time_interval // hours_per_day\n",
    "for d in range(days):\n",
    "    model.addConstr(gp.quicksum(dishwasher_start[t] for t in range(d * 24, min((d + 1) * 24 - duration + 1, start_times))) <= 1,\n",
    "                name=f\"max_one_run_day_dishwasher_{d}\")\n",
    "\n",
    "# Enforce minimum gap (15 hours) between two starts\n",
    "for t in range(start_times - min_gap):\n",
    "    model.addConstr(gp.quicksum(dishwasher_start[t + offset] for offset in range(1, min_gap + 1)) <= (1 - dishwasher_start[t]) * min_gap,\n",
    "                name=f\"min_gap_after_{t}\")\n",
    "\n",
    "# Total power consumption including fixed and dishwasher\n",
    "total_load = [fridge[t] + stove[t] + tv[t] + lighting[t] + power_dishwasher * binary_dishwasher[t] for t in range(T)]\n",
    "\n",
    "# Objective: minimize total electricity cost\n",
    "model.setObjective(gp.quicksum(price[t] * total_load[t] for t in range(T)), GRB.MINIMIZE)\n",
    "\n",
    "# Optimize\n",
    "model.optimize()\n",
    "\n",
    "# Output dishwasher schedule\n",
    "if model.status == GRB.OPTIMAL:\n",
    "    print(f\"Total cost: {model.ObjVal:.2f}\")\n",
    "    for t in range(Time_interval):\n",
    "        if dishwasher_start.get(t) and dishwasher_start[t].X > 0.5:\n",
    "            print(f\"Dishwasher starts at: {df['Timestamp'][t]}\")\n"
   ]
  }
 ],
 "metadata": {
  "kernelspec": {
   "display_name": "optimization_project",
   "language": "python",
   "name": "python3"
  },
  "language_info": {
   "codemirror_mode": {
    "name": "ipython",
    "version": 3
   },
   "file_extension": ".py",
   "mimetype": "text/x-python",
   "name": "python",
   "nbconvert_exporter": "python",
   "pygments_lexer": "ipython3",
   "version": "3.10.16"
  }
 },
 "nbformat": 4,
 "nbformat_minor": 5
}
