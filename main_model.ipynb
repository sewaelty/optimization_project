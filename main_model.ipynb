{
 "cells": [
  {
   "cell_type": "code",
   "execution_count": 2,
   "id": "25f08ec5",
   "metadata": {},
   "outputs": [],
   "source": [
    "import pandas as pd\n",
    "import numpy as np\n",
    "import gurobipy as gp\n",
    "from gurobipy import GRB\n",
    "import os"
   ]
  },
  {
   "cell_type": "markdown",
   "id": "693d4084",
   "metadata": {},
   "source": [
    "### Loading Price Data"
   ]
  },
  {
   "cell_type": "code",
   "execution_count": 3,
   "id": "c2f622b8",
   "metadata": {},
   "outputs": [],
   "source": [
    "project_root = os.path.abspath(os.getcwd())\n",
    "\n",
    "data_dir = os.path.join(project_root, 'data')\n",
    "\n",
    "# Summer month\n",
    "\n",
    "p_summer = pd.read_csv(os.path.join(data_dir, 'Spotmarket_August_2024.csv'),sep=';')\n",
    "\n",
    "# Winter month\n",
    "\n",
    "p_winter = pd.read_csv(os.path.join(data_dir, 'Spotmarket_December_2024.csv'),sep=';')\n",
    "\n",
    "#Spotmarket data from: https://energy-charts.info/charts/price_spot_market/chart.htm?l=en&c=CH&interval=month&year=2024&legendItems=by4&month=12\n"
   ]
  },
  {
   "cell_type": "markdown",
   "id": "213fbe93",
   "metadata": {},
   "source": [
    "### Loading Fixed Appliances Data"
   ]
  },
  {
   "cell_type": "code",
   "execution_count": 20,
   "id": "2ca11976",
   "metadata": {},
   "outputs": [],
   "source": [
    "#TV consumption data for summer month\n",
    "tv_summer = pd.read_csv(os.path.join(data_dir, 'tv_consumption_august_2024_detailed.csv'), sep=',')\n",
    "\n",
    "#TV consumption data for winter month\n",
    "tv_winter = pd.read_csv(os.path.join(data_dir, 'tv_consumption_december_2024_detailed.csv'), sep=',')\n",
    "\n",
    "#Lighting consumption data for summer month\n",
    "lighting_summer = pd.read_csv(os.path.join(data_dir, 'lighting_consumption_august_2024.csv'), sep=',')\n",
    "\n",
    "#Lighting consumption data for winter month\n",
    "lighting_winter = pd.read_csv(os.path.join(data_dir, 'lighting_consumption_december_2024.csv'), sep=',')\n",
    "\n",
    "#Fridge consumption data for summer month\n",
    "fridge_summer = pd.read_csv(os.path.join(data_dir, 'fridge_August_2024.csv'), sep=';')\n",
    "\n",
    "#Fridge consumption data for winter month\n",
    "fridge_winter = pd.read_csv(os.path.join(data_dir, 'fridge_December_2024.csv'), sep=';')\n",
    "\n",
    "#Oven consumption data for summer month\n",
    "oven_summer = pd.read_csv(os.path.join(data_dir, 'Oven_Energy_Consumption_August_2024.csv'),sep=';')\n",
    "\n",
    "#Oven consumption data for winter month\n",
    "oven_winter = pd.read_csv(os.path.join(data_dir, 'Oven_Energy_Consumption_December_2024.csv'),sep=';')\n",
    "\n",
    "#Induction stove consumption data for summer month\n",
    "induction_summer = pd.read_csv(os.path.join(data_dir, 'Induction_Stove_Energy_Consumption_August_2024.csv'),sep=';')\n",
    "\n",
    "#Induction stove consumption data for winter month\n",
    "induction_winter = pd.read_csv(os.path.join(data_dir, 'Induction_Stove_Energy_Consumption_December_2024.csv'),sep=';')\n"
   ]
  },
  {
   "cell_type": "markdown",
   "id": "f11f2ceb",
   "metadata": {},
   "source": [
    "### Data formatting"
   ]
  },
  {
   "cell_type": "code",
   "execution_count": 23,
   "id": "810f398d",
   "metadata": {},
   "outputs": [],
   "source": [
    "#get column names\n",
    "p_summer.columns = p_summer.columns.str.replace(' ', '_')\n",
    "p_winter.columns = p_winter.columns.str.replace(' ', '_')\n",
    "tv_summer.columns = tv_summer.columns.str.replace(' ', '_')\n",
    "tv_winter.columns = tv_winter.columns.str.replace(' ', '_')\n",
    "lighting_summer.columns = lighting_summer.columns.str.replace(' ', '_')\n",
    "lighting_winter.columns = lighting_winter.columns.str.replace(' ', '_')\n",
    "fridge_summer.columns = fridge_summer.columns.str.replace(' ', '_')\n",
    "fridge_winter.columns = fridge_winter.columns.str.replace(' ', '_')\n",
    "oven_summer.columns = oven_summer.columns.str.replace(' ', '_')\n",
    "oven_winter.columns = oven_winter.columns.str.replace(' ', '_')\n",
    "induction_summer.columns = induction_summer.columns.str.replace(' ', '_')\n",
    "induction_winter.columns = induction_winter.columns.str.replace(' ','_')"
   ]
  },
  {
   "cell_type": "markdown",
   "id": "32d2b1ea",
   "metadata": {},
   "source": [
    "### Optimization"
   ]
  },
  {
   "cell_type": "code",
   "execution_count": null,
   "id": "cb759801",
   "metadata": {},
   "outputs": [
    {
     "ename": "TypeError",
     "evalue": "'<' not supported between instances of 'range' and 'int'",
     "output_type": "error",
     "traceback": [
      "\u001b[0;31m---------------------------------------------------------------------------\u001b[0m",
      "\u001b[0;31mTypeError\u001b[0m                                 Traceback (most recent call last)",
      "Cell \u001b[0;32mIn[25], line 39\u001b[0m\n\u001b[1;32m     37\u001b[0m days \u001b[38;5;241m=\u001b[39m Time_interval \u001b[38;5;241m/\u001b[39m\u001b[38;5;241m/\u001b[39m hours_per_day\n\u001b[1;32m     38\u001b[0m \u001b[38;5;28;01mfor\u001b[39;00m d \u001b[38;5;129;01min\u001b[39;00m \u001b[38;5;28mrange\u001b[39m(days):\n\u001b[0;32m---> 39\u001b[0m     model\u001b[38;5;241m.\u001b[39maddConstr(gp\u001b[38;5;241m.\u001b[39mquicksum(dishwasher_start[t] \u001b[38;5;28;01mfor\u001b[39;00m t \u001b[38;5;129;01min\u001b[39;00m \u001b[38;5;28mrange\u001b[39m(d \u001b[38;5;241m*\u001b[39m \u001b[38;5;241m24\u001b[39m, \u001b[38;5;28;43mmin\u001b[39;49m\u001b[43m(\u001b[49m\u001b[43m(\u001b[49m\u001b[43md\u001b[49m\u001b[43m \u001b[49m\u001b[38;5;241;43m+\u001b[39;49m\u001b[43m \u001b[49m\u001b[38;5;241;43m1\u001b[39;49m\u001b[43m)\u001b[49m\u001b[43m \u001b[49m\u001b[38;5;241;43m*\u001b[39;49m\u001b[43m \u001b[49m\u001b[38;5;241;43m24\u001b[39;49m\u001b[43m \u001b[49m\u001b[38;5;241;43m-\u001b[39;49m\u001b[43m \u001b[49m\u001b[43mduration\u001b[49m\u001b[43m \u001b[49m\u001b[38;5;241;43m+\u001b[39;49m\u001b[43m \u001b[49m\u001b[38;5;241;43m1\u001b[39;49m\u001b[43m,\u001b[49m\u001b[43m \u001b[49m\u001b[43mstart_times\u001b[49m\u001b[43m)\u001b[49m)) \u001b[38;5;241m<\u001b[39m\u001b[38;5;241m=\u001b[39m \u001b[38;5;241m1\u001b[39m,\n\u001b[1;32m     40\u001b[0m                 name\u001b[38;5;241m=\u001b[39m\u001b[38;5;124mf\u001b[39m\u001b[38;5;124m\"\u001b[39m\u001b[38;5;124mmax_one_run_per_day_dishwasher_\u001b[39m\u001b[38;5;132;01m{\u001b[39;00md\u001b[38;5;132;01m}\u001b[39;00m\u001b[38;5;124m\"\u001b[39m)\n\u001b[1;32m     42\u001b[0m \u001b[38;5;66;03m# Enforce minimum gap (15 hours) between two starts\u001b[39;00m\n\u001b[1;32m     43\u001b[0m \u001b[38;5;66;03m#multiplying with min_gap so we don't constrain the dishwasher to start at the same time every day\u001b[39;00m\n\u001b[1;32m     44\u001b[0m \u001b[38;5;66;03m#this enures that the optimizer can iterate through without being constrained to a single time\u001b[39;00m\n\u001b[1;32m     45\u001b[0m \u001b[38;5;28;01mfor\u001b[39;00m t \u001b[38;5;129;01min\u001b[39;00m \u001b[38;5;28mrange\u001b[39m(start_times \u001b[38;5;241m-\u001b[39m min_gap):\n",
      "\u001b[0;31mTypeError\u001b[0m: '<' not supported between instances of 'range' and 'int'"
     ]
    }
   ],
   "source": [
    "import pandas as pd\n",
    "import gurobipy as gp\n",
    "from gurobipy import GRB\n",
    "\n",
    "# Load data\n",
    "price = p_summer[\"Price_(EUR/MWh)\"].values\n",
    "fridge = fridge_summer[\"Energy_kWh_1h\"].values\n",
    "stove = induction_summer[\"Energy_Consumption_kWh\"].values\n",
    "tv = tv_summer[\"tv_power_kWh\"].values\n",
    "lighting = lighting_summer[\"lighting_power_kWh\"].values\n",
    "\n",
    "Time_interval = len(price)\n",
    "\n",
    "# Dishwasher properties\n",
    "duration = 3  # hours of operation\n",
    "min_gap = 15  # hours between runs\n",
    "power_dishwasher = 1.5  # kW during operation\n",
    "\n",
    "# Gurobi model\n",
    "model = gp.Model(\"automated_demand_response\")\n",
    "\n",
    "# Binary start variables: 1 if dishwasher starts at hour t\n",
    "start_times = range(Time_interval - duration + 1)\n",
    "dishwasher_start = model.addVars(start_times, vtype=GRB.BINARY, name=\"start\")\n",
    "\n",
    "# Binary on variables: 1 if dishwasher is on at hour t\n",
    "binary_dishwasher = model.addVars(Time_interval, vtype=GRB.BINARY, name=\"on\")\n",
    "\n",
    "# Link start and operation: if start_times[t]=1, then dishwasher_start[t] to dishwasher_start[t+2] = 1\n",
    "for t in range(len(start_times)):\n",
    "    for k in range(duration):\n",
    "        model.addConstr(binary_dishwasher[t + k] >= dishwasher_start[t], name=f\"dishwasher_{t}_{k}\")\n",
    "\n",
    "# Enforce max 1 run per day\n",
    "#adds up all possible start times of the dishwasher in a single and '<= 1' day ensures that the dishwasher can be started at most once per day.\n",
    "hours_per_day = 24\n",
    "days = Time_interval // hours_per_day\n",
    "for d in range(days):\n",
    "    model.addConstr(gp.quicksum(dishwasher_start[t] for t in range(d * 24, min((d + 1) * 24 - duration + 1, start_times))) <= 1,\n",
    "                name=f\"max_one_run_per_day_dishwasher_{d}\")\n",
    "\n",
    "# Enforce minimum gap (15 hours) between two starts\n",
    "#multiplying with min_gap so we don't constrain the dishwasher to start at the same time every day\n",
    "#this enures that the optimizer can iterate through without being constrained to a single time\n",
    "for t in range(start_times - min_gap):\n",
    "    model.addConstr(gp.quicksum(dishwasher_start[t + offset] for offset in range(1, min_gap + 1)) <= (1 - dishwasher_start[t]) * min_gap,\n",
    "                name=f\"min_gap_after_{t}\")\n",
    "\n",
    "# Total power consumption including fixed and dishwasher\n",
    "total_load = [fridge[t] + stove[t] + tv[t] + lighting[t] + power_dishwasher * binary_dishwasher[t] for t in range(Time_interval)]\n",
    "\n",
    "# Objective: minimize total electricity cost\n",
    "model.setObjective(gp.quicksum(price[t] * total_load[t] for t in range(Time_interval)), GRB.MINIMIZE)\n",
    "\n",
    "# Optimize\n",
    "model.optimize()\n",
    "\n",
    "# Output dishwasher schedule\n",
    "if model.status == GRB.OPTIMAL:\n",
    "    print(f\"Total cost: {model.ObjVal:.2f}\")\n",
    "    for t in range(Time_interval):\n",
    "        if dishwasher_start.get(t) and dishwasher_start[t].X > 0.5:\n",
    "            print(f\"Dishwasher starts at: {df['Timestamp'][t]}\")\n"
   ]
  },
  {
   "cell_type": "code",
   "execution_count": null,
   "id": "5bc14233",
   "metadata": {},
   "outputs": [],
   "source": []
  }
 ],
 "metadata": {
  "kernelspec": {
   "display_name": "optimization_project",
   "language": "python",
   "name": "python3"
  },
  "language_info": {
   "codemirror_mode": {
    "name": "ipython",
    "version": 3
   },
   "file_extension": ".py",
   "mimetype": "text/x-python",
   "name": "python",
   "nbconvert_exporter": "python",
   "pygments_lexer": "ipython3",
   "version": "3.10.16"
  }
 },
 "nbformat": 4,
 "nbformat_minor": 5
}
