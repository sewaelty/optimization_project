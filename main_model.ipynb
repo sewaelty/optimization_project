{
 "cells": [
  {
   "cell_type": "code",
   "execution_count": null,
   "id": "c2f622b8",
   "metadata": {},
   "outputs": [],
   "source": [
    "#Main model"
   ]
  },
  {
   "cell_type": "code",
   "execution_count": null,
   "id": "6b44d866",
   "metadata": {},
   "outputs": [],
   "source": []
  }
 ],
 "metadata": {
  "language_info": {
   "name": "python"
  }
 },
 "nbformat": 4,
 "nbformat_minor": 5
}
