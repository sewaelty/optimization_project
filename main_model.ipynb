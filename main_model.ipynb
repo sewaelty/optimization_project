{
 "cells": [
  {
   "cell_type": "code",
   "execution_count": 3,
   "id": "25f08ec5",
   "metadata": {},
   "outputs": [],
   "source": [
    "import pandas as pd\n",
    "import numpy as np\n",
    "import gurobipy as gp\n",
    "from gurobipy import GRB\n",
    "import os"
   ]
  },
  {
   "cell_type": "markdown",
   "id": "693d4084",
   "metadata": {},
   "source": [
    "### Loading Data"
   ]
  },
  {
   "cell_type": "code",
   "execution_count": null,
   "id": "c2f622b8",
   "metadata": {},
   "outputs": [
    {
     "name": "stdout",
     "output_type": "stream",
     "text": [
      "               timestamp  tv_power_kWh\n",
      "0    2024-08-01 00:00:00           0.0\n",
      "1    2024-08-01 01:00:00           0.0\n",
      "2    2024-08-01 02:00:00           0.0\n",
      "3    2024-08-01 03:00:00           0.0\n",
      "4    2024-08-01 04:00:00           0.0\n",
      "..                   ...           ...\n",
      "716  2024-08-30 20:00:00           0.1\n",
      "717  2024-08-30 21:00:00           0.1\n",
      "718  2024-08-30 22:00:00           0.1\n",
      "719  2024-08-30 23:00:00           0.0\n",
      "720  2024-08-31 00:00:00           0.0\n",
      "\n",
      "[721 rows x 2 columns]\n"
     ]
    }
   ],
   "source": [
    "project_root = os.path.abspath(os.getcwd())\n",
    "\n",
    "data_dir = os.path.join(project_root, 'data')\n",
    "\n",
    "# Summer month\n",
    "\n",
    "p_summer = pd.read_csv(os.path.join(data_dir, 'Spotmarket_August_2024.csv'))\n",
    "\n",
    "# Winter month\n",
    "\n",
    "p_winter = pd.read_csv(os.path.join(data_dir, 'Spotmarket_December_2024.csv'))\n",
    "\n",
    "#Spotmarket data from: https://energy-charts.info/charts/price_spot_market/chart.htm?l=en&c=CH&interval=month&year=2024&legendItems=by4&month=12\n",
    "\n",
    "# TV consumption data estimated with ChatGPT and based on the following assumptions: \n",
    "# Weekdays: TV watched between 7–10 PM\n",
    "# Champions League (Tue/Wed): 8–11 PM, increased consumption\n",
    "# Daily news broadcast: every day at 8 PM\n",
    "# Weekends: longer evening use, possible sports at midday\n",
    "# December: morning TV (7–8 AM), ski races (12–1 PM)\n",
    "\n",
    "#TV consumption data for summer month\n",
    "tv_summer = pd.read_csv(os.path.join(data_dir, 'tv_consumption_august_2024_detailed.csv'))\n",
    "\n",
    "#TV consumption data for winter month\n",
    "tv_winter = pd.read_csv(os.path.join(data_dir, 'tv_consumption_december_2024_detailed.csv'))\n",
    "\n",
    "# Lighting consumption data estimated with ChatGPT and based on the following assumptions:\n",
    "# Lighting: 10 LED lamps at 10 W each → 0.1 kWh per hour when active\n",
    "# Winter months (e.g. December):\n",
    "# Evening usage (5–11 PM): probability ~80%\n",
    "# Morning usage (6–8 AM): ~40%\n",
    "# Daytime usage on weekends: ~20%\n",
    "# Summer months (e.g. August):\n",
    "# Usage mostly in late evenings (9–11 PM): ~50%\n",
    "# Less morning usage\n",
    "# Weekdays: reduced daytime probability (~20% of base) as people are often not at home\n",
    "\n",
    "#lighting consumption data for summer month\n",
    "lighting_summer = pd.read_csv(os.path.join(data_dir, 'lighting_consumption_august_2024.csv'))\n",
    "#lighting consumption data for winter month\n",
    "lighting_winter = pd.read_csv(os.path.join(data_dir, 'lighting_consumption_december_2024.csv'))\n",
    "\n"
   ]
  },
  {
   "cell_type": "code",
   "execution_count": null,
   "id": "70a6b56e",
   "metadata": {},
   "outputs": [],
   "source": []
  }
 ],
 "metadata": {
  "kernelspec": {
   "display_name": "optimization_project",
   "language": "python",
   "name": "python3"
  },
  "language_info": {
   "codemirror_mode": {
    "name": "ipython",
    "version": 3
   },
   "file_extension": ".py",
   "mimetype": "text/x-python",
   "name": "python",
   "nbconvert_exporter": "python",
   "pygments_lexer": "ipython3",
   "version": "3.10.16"
  }
 },
 "nbformat": 4,
 "nbformat_minor": 5
}
