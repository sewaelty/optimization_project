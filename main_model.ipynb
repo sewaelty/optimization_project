{
 "cells": [
  {
   "cell_type": "code",
   "execution_count": 3,
   "id": "25f08ec5",
   "metadata": {},
   "outputs": [],
   "source": [
    "import pandas as pd\n",
    "import numpy as np\n",
    "import gurobipy as gp\n",
    "from gurobipy import GRB\n",
    "import os"
   ]
  },
  {
   "cell_type": "markdown",
   "id": "693d4084",
   "metadata": {},
   "source": [
    "### Loading Data"
   ]
  },
  {
   "cell_type": "code",
   "execution_count": null,
   "id": "c2f622b8",
   "metadata": {},
   "outputs": [
    {
     "name": "stdout",
     "output_type": "stream",
     "text": [
      "               timestamp  tv_power_kWh\n",
      "0    2024-08-01 00:00:00           0.0\n",
      "1    2024-08-01 01:00:00           0.0\n",
      "2    2024-08-01 02:00:00           0.0\n",
      "3    2024-08-01 03:00:00           0.0\n",
      "4    2024-08-01 04:00:00           0.0\n",
      "..                   ...           ...\n",
      "716  2024-08-30 20:00:00           0.1\n",
      "717  2024-08-30 21:00:00           0.1\n",
      "718  2024-08-30 22:00:00           0.1\n",
      "719  2024-08-30 23:00:00           0.0\n",
      "720  2024-08-31 00:00:00           0.0\n",
      "\n",
      "[721 rows x 2 columns]\n"
     ]
    }
   ],
   "source": [
    "project_root = os.path.abspath(os.getcwd())\n",
    "\n",
    "data_dir = os.path.join(project_root, 'data')\n",
    "\n",
    "# Summer month\n",
    "\n",
    "p_summer = pd.read_csv(os.path.join(data_dir, 'Spotmarket_August_2024.csv'))\n",
    "\n",
    "# Winter month\n",
    "\n",
    "p_winter = pd.read_csv(os.path.join(data_dir, 'Spotmarket_December_2024.csv'))\n",
    "\n",
    "#Spotmarket data from: https://energy-charts.info/charts/price_spot_market/chart.htm?l=en&c=CH&interval=month&year=2024&legendItems=by4&month=12\n",
    "\n",
    "#TV consumption data estimated with chatgpt and based on the following assumptions: \n",
    "#Werktags: Fernsehen zwischen 19–22 Uhr\n",
    "#Champions League (Di/Mi): 20–23 Uhr, erhöhter Verbrauch\n",
    "#Tagesschau: täglich um 20 Uhr\n",
    "#Wochenenden: abends längere Nutzung, mittags evtl. Sport\n",
    "#Dezember: Frühstücksfernsehen (7–8 Uhr), Skirennen (12–13 Uhr)\n",
    "\n",
    "#TV consumption data for summer month\n",
    "tv_summer = pd.read_csv(os.path.join(data_dir, 'tv_consumption_august_2024_detailed.csv'))\n",
    "\n",
    "#TV consumption data for winter month\n",
    "tv_winter = pd.read_csv(os.path.join(data_dir, 'tv_consumption_december_2024_detailed.csv'))\n",
    "\n",
    "\n"
   ]
  },
  {
   "cell_type": "code",
   "execution_count": null,
   "id": "70a6b56e",
   "metadata": {},
   "outputs": [],
   "source": []
  }
 ],
 "metadata": {
  "kernelspec": {
   "display_name": "optimization_project",
   "language": "python",
   "name": "python3"
  },
  "language_info": {
   "codemirror_mode": {
    "name": "ipython",
    "version": 3
   },
   "file_extension": ".py",
   "mimetype": "text/x-python",
   "name": "python",
   "nbconvert_exporter": "python",
   "pygments_lexer": "ipython3",
   "version": "3.10.16"
  }
 },
 "nbformat": 4,
 "nbformat_minor": 5
}
