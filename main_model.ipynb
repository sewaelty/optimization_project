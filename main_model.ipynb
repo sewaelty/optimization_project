{
 "cells": [
  {
   "cell_type": "code",
   "execution_count": 3,
   "id": "25f08ec5",
   "metadata": {},
   "outputs": [],
   "source": [
    "import pandas as pd\n",
    "import numpy as np\n",
    "import gurobipy as gp\n",
    "from gurobipy import GRB\n",
    "import os"
   ]
  },
  {
   "cell_type": "markdown",
   "id": "693d4084",
   "metadata": {},
   "source": [
    "### Loading Data"
   ]
  },
  {
   "cell_type": "code",
   "execution_count": null,
   "id": "c2f622b8",
   "metadata": {},
   "outputs": [],
   "source": [
    "project_root = os.path.abspath(os.getcwd())\n",
    "\n",
    "data_dir = os.path.join(project_root, 'data')\n",
    "\n",
    "# Summer month\n",
    "\n",
    "p_summer = pd.read_csv(os.path.join(data_dir, 'Spotmarket_August_2024.csv'))\n",
    "\n",
    "# Winter month\n",
    "\n",
    "p_winter = pd.read_csv(os.path.join(data_dir, 'Spotmarket_December_2024.csv'))\n",
    "\n",
    "#Spotmarket data from: https://energy-charts.info/charts/price_spot_market/chart.htm?l=en&c=CH&interval=month&year=2024&legendItems=by4&month=12\n"
   ]
  },
  {
   "cell_type": "markdown",
   "id": "609026c7",
   "metadata": {},
   "source": [
    "\n",
    "### TV consumption data estimated with ChatGPT and based on the following assumptions: \n",
    "Weekdays: TV watched between 7–10 PM\n",
    "Champions League (Tue/Wed): 8–11 PM, increased consumption\n",
    "Daily news broadcast: every day at 8 PM\n",
    "Weekends: longer evening use, possible sports at midday\n",
    "December: morning TV (7–8 AM), ski races (12–1 PM)"
   ]
  },
  {
   "cell_type": "code",
   "execution_count": null,
   "id": "2ca11976",
   "metadata": {},
   "outputs": [],
   "source": [
    "#TV consumption data for summer month\n",
    "tv_summer = pd.read_csv(os.path.join(data_dir, 'tv_consumption_august_2024_detailed.csv'))\n",
    "\n",
    "#TV consumption data for winter month\n",
    "tv_winter = pd.read_csv(os.path.join(data_dir, 'tv_consumption_december_2024_detailed.csv'))\n"
   ]
  },
  {
   "cell_type": "markdown",
   "id": "6504147d",
   "metadata": {},
   "source": [
    "### Lighting consumption data estimated with ChatGPT and based on the following assumptions:\n",
    "\n",
    "Lighting: 10 LED lamps at 10 W each → 0.1 kWh per hour when active\n",
    "Winter months (e.g. December):\n",
    "Evening usage (5–11 PM): probability ~80%\n",
    "Morning usage (6–8 AM): ~40%\n",
    "Daytime usage on weekends: ~20%\n",
    "Summer months (e.g. August):\n",
    "Usage mostly in late evenings (9–11 PM): ~50%\n",
    "Less morning usage\n",
    "Weekdays: reduced daytime probability (~20% of base) as people are often not at home"
   ]
  },
  {
   "cell_type": "code",
   "execution_count": null,
   "id": "810f398d",
   "metadata": {},
   "outputs": [],
   "source": [
    "#lighting consumption data for summer month\n",
    "lighting_summer = pd.read_csv(os.path.join(data_dir, 'lighting_consumption_august_2024.csv'))\n",
    "#lighting consumption data for winter month\n",
    "lighting_winter = pd.read_csv(os.path.join(data_dir, 'lighting_consumption_december_2024.csv'))"
   ]
  },
  {
   "cell_type": "code",
   "execution_count": null,
   "id": "70a6b56e",
   "metadata": {},
   "outputs": [],
   "source": []
  },
  {
   "cell_type": "markdown",
   "id": "c03d3093",
   "metadata": {},
   "source": [
    "### Fridge consumption:\n",
    "\n",
    "Data for a fridge based on the profile from https://app.data-archive.ethz.ch/delivery/DeliveryManagerServlet?dps_pid=IE594964 and then aggregated to hourly values for the months december and August"
   ]
  },
  {
   "cell_type": "code",
   "execution_count": 4,
   "id": "33289779",
   "metadata": {},
   "outputs": [],
   "source": [
    "#lighting consumption data for summer month\n",
    "fridge_summer = pd.read_csv(os.path.join(data_dir, 'fridge_August.csv'))\n",
    "#lighting consumption data for winter month\n",
    "fridge_winter = pd.read_csv(os.path.join(data_dir, 'fridge_December.csv'))"
   ]
  },
  {
   "cell_type": "markdown",
   "id": "32d2b1ea",
   "metadata": {},
   "source": [
    "### Optimization"
   ]
  },
  {
   "cell_type": "code",
   "execution_count": null,
   "id": "cb759801",
   "metadata": {},
   "outputs": [],
   "source": [
    "import pandas as pd\n",
    "import gurobipy as gp\n",
    "from gurobipy import GRB\n",
    "\n",
    "# Load data\n",
    "price = p_summer[\"Price (EUR/MWh)\"].values\n",
    "fridge = fridge_summer[\"Energy_kWh_1h\"].values\n",
    "#stove = df[\"Stove\"].values\n",
    "tv = tv_summer[\"tv_power_kWh\"].values\n",
    "lighting = lighting_summer[\"lighting_power_kWh\"].values\n",
    "\n",
    "T = len(price)\n",
    "\n",
    "# Dishwasher properties\n",
    "duration = 3  # hours of operation\n",
    "min_gap = 15  # hours between runs\n",
    "power_dishwasher = 1.5  # kW during operation\n",
    "\n",
    "# Gurobi model\n",
    "m = gp.Model(\"automated_demand_response\")\n",
    "\n",
    "# Binary start variables: 1 if dishwasher starts at hour t\n",
    "s = m.addVars(T - duration + 1, vtype=GRB.BINARY, name=\"start\")\n",
    "\n",
    "# Binary on variables: 1 if dishwasher is on at hour t\n",
    "x = m.addVars(T, vtype=GRB.BINARY, name=\"on\")\n",
    "\n",
    "# Link start and operation: if s[t]=1, then x[t] to x[t+2] = 1\n",
    "for t in range(T - duration + 1):\n",
    "    for k in range(duration):\n",
    "        m.addConstr(x[t + k] >= s[t], name=f\"link_{t}_{k}\")\n",
    "\n",
    "# Enforce max 1 run per day\n",
    "hours_per_day = 24\n",
    "days = T // hours_per_day\n",
    "for d in range(days):\n",
    "    m.addConstr(gp.quicksum(s[t] for t in range(d * 24, min((d + 1) * 24 - duration + 1, T - duration + 1))) <= 1,\n",
    "                name=f\"max_one_run_day_{d}\")\n",
    "\n",
    "# Enforce minimum gap (15 hours) between two starts\n",
    "for t in range(T - duration + 1 - min_gap):\n",
    "    m.addConstr(gp.quicksum(s[t + offset] for offset in range(1, min_gap + 1)) <= (1 - s[t]) * min_gap,\n",
    "                name=f\"min_gap_after_{t}\")\n",
    "\n",
    "# Total power consumption including fixed and dishwasher\n",
    "total_load = [fridge[t] + stove[t] + tv[t] + lighting[t] + power_dishwasher * x[t] for t in range(T)]\n",
    "\n",
    "# Objective: minimize total electricity cost\n",
    "m.setObjective(gp.quicksum(price[t] * total_load[t] for t in range(T)), GRB.MINIMIZE)\n",
    "\n",
    "# Optimize\n",
    "m.optimize()\n",
    "\n",
    "# Output dishwasher schedule\n",
    "if m.status == GRB.OPTIMAL:\n",
    "    print(f\"Total cost: {m.ObjVal:.2f}\")\n",
    "    for t in range(T):\n",
    "        if s.get(t) and s[t].X > 0.5:\n",
    "            print(f\"Dishwasher starts at: {df['Timestamp'][t]}\")\n"
   ]
  }
 ],
 "metadata": {
  "kernelspec": {
   "display_name": "optimization_project",
   "language": "python",
   "name": "python3"
  },
  "language_info": {
   "codemirror_mode": {
    "name": "ipython",
    "version": 3
   },
   "file_extension": ".py",
   "mimetype": "text/x-python",
   "name": "python",
   "nbconvert_exporter": "python",
   "pygments_lexer": "ipython3",
   "version": "3.10.16"
  }
 },
 "nbformat": 4,
 "nbformat_minor": 5
}
