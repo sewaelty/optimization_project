{
 "cells": [
  {
   "cell_type": "code",
   "execution_count": 1,
   "id": "25f08ec5",
   "metadata": {},
   "outputs": [],
   "source": [
    "import pandas as pd\n",
    "import numpy as np\n",
    "import gurobipy as gp\n",
    "from gurobipy import GRB\n",
    "import os"
   ]
  },
  {
   "cell_type": "markdown",
   "id": "693d4084",
   "metadata": {},
   "source": [
    "### Loading Price Data"
   ]
  },
  {
   "cell_type": "code",
   "execution_count": 2,
   "id": "c2f622b8",
   "metadata": {},
   "outputs": [],
   "source": [
    "project_root = os.path.abspath(os.getcwd())\n",
    "\n",
    "data_dir = os.path.join(project_root, 'data')\n",
    "\n",
    "# Summer month\n",
    "\n",
    "p_summer = pd.read_csv(os.path.join(data_dir, 'Spotmarket_August_2024.csv'),sep=';')\n",
    "\n",
    "# Winter month\n",
    "\n",
    "p_winter = pd.read_csv(os.path.join(data_dir, 'Spotmarket_December_2024.csv'),sep=';')\n",
    "\n",
    "#Spotmarket data from: https://energy-charts.info/charts/price_spot_market/chart.htm?l=en&c=CH&interval=month&year=2024&legendItems=by4&month=12\n"
   ]
  },
  {
   "cell_type": "markdown",
   "id": "213fbe93",
   "metadata": {},
   "source": [
    "### Loading Fixed Appliances Data"
   ]
  },
  {
   "cell_type": "code",
   "execution_count": 3,
   "id": "2ca11976",
   "metadata": {},
   "outputs": [],
   "source": [
    "#TV consumption data for summer month\n",
    "tv_summer = pd.read_csv(os.path.join(data_dir, 'tv_consumption_august_2024_detailed.csv'), sep=';')\n",
    "\n",
    "#TV consumption data for winter month\n",
    "tv_winter = pd.read_csv(os.path.join(data_dir, 'tv_consumption_december_2024_detailed.csv'), sep=';')\n",
    "\n",
    "#Lighting consumption data for summer month\n",
    "lighting_summer = pd.read_csv(os.path.join(data_dir, 'lighting_consumption_august_2024.csv'), sep=';')\n",
    "\n",
    "#Lighting consumption data for winter month\n",
    "lighting_winter = pd.read_csv(os.path.join(data_dir, 'lighting_consumption_december_2024.csv'), sep=';')\n",
    "\n",
    "#Fridge consumption data for summer month\n",
    "fridge_summer = pd.read_csv(os.path.join(data_dir, 'fridge_August_2024.csv'), sep=';')\n",
    "\n",
    "#Fridge consumption data for winter month\n",
    "fridge_winter = pd.read_csv(os.path.join(data_dir, 'fridge_December_2024.csv'), sep=';')\n",
    "\n",
    "#Oven consumption data for summer month\n",
    "oven_summer = pd.read_csv(os.path.join(data_dir, 'Oven_Energy_Consumption_August_2024.csv'),sep=';')\n",
    "\n",
    "#Oven consumption data for winter month\n",
    "oven_winter = pd.read_csv(os.path.join(data_dir, 'Oven_Energy_Consumption_December_2024.csv'),sep=';')\n",
    "\n",
    "#Induction stove consumption data for summer month\n",
    "induction_summer = pd.read_csv(os.path.join(data_dir, 'Induction_Stove_Energy_Consumption_August_2024.csv'),sep=';')\n",
    "\n",
    "#Induction stove consumption data for winter month\n",
    "induction_winter = pd.read_csv(os.path.join(data_dir, 'Induction_Stove_Energy_Consumption_December_2024.csv'),sep=';')\n"
   ]
  },
  {
   "cell_type": "markdown",
   "id": "f11f2ceb",
   "metadata": {},
   "source": [
    "### Data formatting"
   ]
  },
  {
   "cell_type": "code",
   "execution_count": 4,
   "id": "70a6b56e",
   "metadata": {},
   "outputs": [],
   "source": [
    "#get column names\n",
    "p_summer.columns = p_summer.columns.str.replace(' ', '_')\n",
    "p_winter.columns = p_winter.columns.str.replace(' ', '_')\n",
    "tv_summer.columns = tv_summer.columns.str.replace(' ', '_')\n",
    "tv_winter.columns = tv_winter.columns.str.replace(' ', '_')\n",
    "lighting_summer.columns = lighting_summer.columns.str.replace(' ', '_')\n",
    "lighting_winter.columns = lighting_winter.columns.str.replace(' ', '_')\n",
    "fridge_summer.columns = fridge_summer.columns.str.replace(' ', '_')\n",
    "fridge_winter.columns = fridge_winter.columns.str.replace(' ', '_')\n",
    "oven_summer.columns = oven_summer.columns.str.replace(' ', '_')\n",
    "oven_winter.columns = oven_winter.columns.str.replace(' ', '_')\n",
    "induction_summer.columns = induction_summer.columns.str.replace(' ', '_')\n",
    "induction_winter.columns = induction_winter.columns.str.replace(' ', '_')"
   ]
  },
  {
   "cell_type": "markdown",
   "id": "32d2b1ea",
   "metadata": {},
   "source": [
    "### Optimization"
   ]
  },
  {
   "cell_type": "code",
   "execution_count": 5,
   "id": "cb759801",
   "metadata": {},
   "outputs": [
    {
     "ename": "KeyError",
     "evalue": "'Price (EUR/MWh)'",
     "output_type": "error",
     "traceback": [
      "\u001b[1;31m---------------------------------------------------------------------------\u001b[0m",
      "\u001b[1;31mKeyError\u001b[0m                                  Traceback (most recent call last)",
      "File \u001b[1;32mc:\\Users\\aless\\anaconda3\\envs\\optimization\\Lib\\site-packages\\pandas\\core\\indexes\\base.py:3805\u001b[0m, in \u001b[0;36mIndex.get_loc\u001b[1;34m(self, key)\u001b[0m\n\u001b[0;32m   3804\u001b[0m \u001b[38;5;28;01mtry\u001b[39;00m:\n\u001b[1;32m-> 3805\u001b[0m     \u001b[38;5;28;01mreturn\u001b[39;00m \u001b[38;5;28;43mself\u001b[39;49m\u001b[38;5;241;43m.\u001b[39;49m\u001b[43m_engine\u001b[49m\u001b[38;5;241;43m.\u001b[39;49m\u001b[43mget_loc\u001b[49m\u001b[43m(\u001b[49m\u001b[43mcasted_key\u001b[49m\u001b[43m)\u001b[49m\n\u001b[0;32m   3806\u001b[0m \u001b[38;5;28;01mexcept\u001b[39;00m \u001b[38;5;167;01mKeyError\u001b[39;00m \u001b[38;5;28;01mas\u001b[39;00m err:\n",
      "File \u001b[1;32mindex.pyx:167\u001b[0m, in \u001b[0;36mpandas._libs.index.IndexEngine.get_loc\u001b[1;34m()\u001b[0m\n",
      "File \u001b[1;32mindex.pyx:196\u001b[0m, in \u001b[0;36mpandas._libs.index.IndexEngine.get_loc\u001b[1;34m()\u001b[0m\n",
      "File \u001b[1;32mpandas\\\\_libs\\\\hashtable_class_helper.pxi:7081\u001b[0m, in \u001b[0;36mpandas._libs.hashtable.PyObjectHashTable.get_item\u001b[1;34m()\u001b[0m\n",
      "File \u001b[1;32mpandas\\\\_libs\\\\hashtable_class_helper.pxi:7089\u001b[0m, in \u001b[0;36mpandas._libs.hashtable.PyObjectHashTable.get_item\u001b[1;34m()\u001b[0m\n",
      "\u001b[1;31mKeyError\u001b[0m: 'Price (EUR/MWh)'",
      "\nThe above exception was the direct cause of the following exception:\n",
      "\u001b[1;31mKeyError\u001b[0m                                  Traceback (most recent call last)",
      "Cell \u001b[1;32mIn[5], line 6\u001b[0m\n\u001b[0;32m      3\u001b[0m \u001b[38;5;28;01mfrom\u001b[39;00m \u001b[38;5;21;01mgurobipy\u001b[39;00m \u001b[38;5;28;01mimport\u001b[39;00m GRB\n\u001b[0;32m      5\u001b[0m \u001b[38;5;66;03m# Load data\u001b[39;00m\n\u001b[1;32m----> 6\u001b[0m price \u001b[38;5;241m=\u001b[39m \u001b[43mp_summer\u001b[49m\u001b[43m[\u001b[49m\u001b[38;5;124;43m\"\u001b[39;49m\u001b[38;5;124;43mPrice (EUR/MWh)\u001b[39;49m\u001b[38;5;124;43m\"\u001b[39;49m\u001b[43m]\u001b[49m\u001b[38;5;241m.\u001b[39mvalues\n\u001b[0;32m      7\u001b[0m fridge \u001b[38;5;241m=\u001b[39m fridge_summer[\u001b[38;5;124m\"\u001b[39m\u001b[38;5;124mEnergy_kWh_1h\u001b[39m\u001b[38;5;124m\"\u001b[39m]\u001b[38;5;241m.\u001b[39mvalues\n\u001b[0;32m      8\u001b[0m \u001b[38;5;66;03m#stove = df[\"Stove\"].values\u001b[39;00m\n",
      "File \u001b[1;32mc:\\Users\\aless\\anaconda3\\envs\\optimization\\Lib\\site-packages\\pandas\\core\\frame.py:4102\u001b[0m, in \u001b[0;36mDataFrame.__getitem__\u001b[1;34m(self, key)\u001b[0m\n\u001b[0;32m   4100\u001b[0m \u001b[38;5;28;01mif\u001b[39;00m \u001b[38;5;28mself\u001b[39m\u001b[38;5;241m.\u001b[39mcolumns\u001b[38;5;241m.\u001b[39mnlevels \u001b[38;5;241m>\u001b[39m \u001b[38;5;241m1\u001b[39m:\n\u001b[0;32m   4101\u001b[0m     \u001b[38;5;28;01mreturn\u001b[39;00m \u001b[38;5;28mself\u001b[39m\u001b[38;5;241m.\u001b[39m_getitem_multilevel(key)\n\u001b[1;32m-> 4102\u001b[0m indexer \u001b[38;5;241m=\u001b[39m \u001b[38;5;28;43mself\u001b[39;49m\u001b[38;5;241;43m.\u001b[39;49m\u001b[43mcolumns\u001b[49m\u001b[38;5;241;43m.\u001b[39;49m\u001b[43mget_loc\u001b[49m\u001b[43m(\u001b[49m\u001b[43mkey\u001b[49m\u001b[43m)\u001b[49m\n\u001b[0;32m   4103\u001b[0m \u001b[38;5;28;01mif\u001b[39;00m is_integer(indexer):\n\u001b[0;32m   4104\u001b[0m     indexer \u001b[38;5;241m=\u001b[39m [indexer]\n",
      "File \u001b[1;32mc:\\Users\\aless\\anaconda3\\envs\\optimization\\Lib\\site-packages\\pandas\\core\\indexes\\base.py:3812\u001b[0m, in \u001b[0;36mIndex.get_loc\u001b[1;34m(self, key)\u001b[0m\n\u001b[0;32m   3807\u001b[0m     \u001b[38;5;28;01mif\u001b[39;00m \u001b[38;5;28misinstance\u001b[39m(casted_key, \u001b[38;5;28mslice\u001b[39m) \u001b[38;5;129;01mor\u001b[39;00m (\n\u001b[0;32m   3808\u001b[0m         \u001b[38;5;28misinstance\u001b[39m(casted_key, abc\u001b[38;5;241m.\u001b[39mIterable)\n\u001b[0;32m   3809\u001b[0m         \u001b[38;5;129;01mand\u001b[39;00m \u001b[38;5;28many\u001b[39m(\u001b[38;5;28misinstance\u001b[39m(x, \u001b[38;5;28mslice\u001b[39m) \u001b[38;5;28;01mfor\u001b[39;00m x \u001b[38;5;129;01min\u001b[39;00m casted_key)\n\u001b[0;32m   3810\u001b[0m     ):\n\u001b[0;32m   3811\u001b[0m         \u001b[38;5;28;01mraise\u001b[39;00m InvalidIndexError(key)\n\u001b[1;32m-> 3812\u001b[0m     \u001b[38;5;28;01mraise\u001b[39;00m \u001b[38;5;167;01mKeyError\u001b[39;00m(key) \u001b[38;5;28;01mfrom\u001b[39;00m \u001b[38;5;21;01merr\u001b[39;00m\n\u001b[0;32m   3813\u001b[0m \u001b[38;5;28;01mexcept\u001b[39;00m \u001b[38;5;167;01mTypeError\u001b[39;00m:\n\u001b[0;32m   3814\u001b[0m     \u001b[38;5;66;03m# If we have a listlike key, _check_indexing_error will raise\u001b[39;00m\n\u001b[0;32m   3815\u001b[0m     \u001b[38;5;66;03m#  InvalidIndexError. Otherwise we fall through and re-raise\u001b[39;00m\n\u001b[0;32m   3816\u001b[0m     \u001b[38;5;66;03m#  the TypeError.\u001b[39;00m\n\u001b[0;32m   3817\u001b[0m     \u001b[38;5;28mself\u001b[39m\u001b[38;5;241m.\u001b[39m_check_indexing_error(key)\n",
      "\u001b[1;31mKeyError\u001b[0m: 'Price (EUR/MWh)'"
     ]
    }
   ],
   "source": [
    "import pandas as pd\n",
    "import gurobipy as gp\n",
    "from gurobipy import GRB\n",
    "\n",
    "# Load data\n",
    "price = p_summer[\"Price (EUR/MWh)\"].values\n",
    "fridge = fridge_summer[\"Energy_kWh_1h\"].values\n",
    "#stove = df[\"Stove\"].values\n",
    "tv = tv_summer[\"tv_power_kWh\"].values\n",
    "lighting = lighting_summer[\"lighting_power_kWh\"].values\n",
    "\n",
    "T = len(price)\n",
    "\n",
    "# Dishwasher properties\n",
    "duration = 3  # hours of operation\n",
    "min_gap = 15  # hours between runs\n",
    "power_dishwasher = 1.5  # kW during operation\n",
    "\n",
    "# Gurobi model\n",
    "m = gp.Model(\"automated_demand_response\")\n",
    "\n",
    "# Binary start variables: 1 if dishwasher starts at hour t\n",
    "s = m.addVars(T - duration + 1, vtype=GRB.BINARY, name=\"start\")\n",
    "\n",
    "# Binary on variables: 1 if dishwasher is on at hour t\n",
    "x = m.addVars(T, vtype=GRB.BINARY, name=\"on\")\n",
    "\n",
    "# Link start and operation: if s[t]=1, then x[t] to x[t+2] = 1\n",
    "for t in range(T - duration + 1):\n",
    "    for k in range(duration):\n",
    "        m.addConstr(x[t + k] >= s[t], name=f\"link_{t}_{k}\")\n",
    "\n",
    "# Enforce max 1 run per day\n",
    "hours_per_day = 24\n",
    "days = T // hours_per_day\n",
    "for d in range(days):\n",
    "    m.addConstr(gp.quicksum(s[t] for t in range(d * 24, min((d + 1) * 24 - duration + 1, T - duration + 1))) <= 1,\n",
    "                name=f\"max_one_run_day_{d}\")\n",
    "\n",
    "# Enforce minimum gap (15 hours) between two starts\n",
    "for t in range(T - duration + 1 - min_gap):\n",
    "    m.addConstr(gp.quicksum(s[t + offset] for offset in range(1, min_gap + 1)) <= (1 - s[t]) * min_gap,\n",
    "                name=f\"min_gap_after_{t}\")\n",
    "\n",
    "# Total power consumption including fixed and dishwasher\n",
    "total_load = [fridge[t] + stove[t] + tv[t] + lighting[t] + power_dishwasher * x[t] for t in range(T)]\n",
    "\n",
    "# Objective: minimize total electricity cost\n",
    "m.setObjective(gp.quicksum(price[t] * total_load[t] for t in range(T)), GRB.MINIMIZE)\n",
    "\n",
    "# Optimize\n",
    "m.optimize()\n",
    "\n",
    "# Output dishwasher schedule\n",
    "if m.status == GRB.OPTIMAL:\n",
    "    print(f\"Total cost: {m.ObjVal:.2f}\")\n",
    "    for t in range(T):\n",
    "        if s.get(t) and s[t].X > 0.5:\n",
    "            print(f\"Dishwasher starts at: {df['Timestamp'][t]}\")\n"
   ]
  },
  {
   "cell_type": "code",
   "execution_count": null,
   "id": "5bc14233",
   "metadata": {},
   "outputs": [],
   "source": []
  }
 ],
 "metadata": {
  "kernelspec": {
   "display_name": "optimization",
   "language": "python",
   "name": "python3"
  },
  "language_info": {
   "codemirror_mode": {
    "name": "ipython",
    "version": 3
   },
   "file_extension": ".py",
   "mimetype": "text/x-python",
   "name": "python",
   "nbconvert_exporter": "python",
   "pygments_lexer": "ipython3",
   "version": "3.12.9"
  }
 },
 "nbformat": 4,
 "nbformat_minor": 5
}
