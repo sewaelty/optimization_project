{
 "cells": [
  {
   "cell_type": "code",
   "execution_count": 106,
   "id": "ce81e8bf",
   "metadata": {},
   "outputs": [],
   "source": [
    "#read the distance and location files and create a panda dataframe for both\n",
    "import os\n",
    "import pandas as pd\n",
    "\n",
    "project_root = os.path.abspath(os.getcwd())\n",
    "\n",
    "data_dir = os.path.join(project_root, '..', 'data')\n",
    "\n",
    "location_EV = pd.read_csv(os.path.join(data_dir, 'location_detail.csv'), sep=',')\n",
    "\n",
    "distance_driven_EV = pd.read_csv(os.path.join(data_dir, 'distance_driven.csv'), sep=',')\n",
    "\n"
   ]
  },
  {
   "cell_type": "code",
   "execution_count": 107,
   "id": "0d3dc15a",
   "metadata": {},
   "outputs": [
    {
     "name": "stdout",
     "output_type": "stream",
     "text": [
      "   Unnamed: 0     0   1   2   3   4   5   6   7   8  ... 1991 1992 1993 1994  \\\n",
      "0           0  0.00  ho  ho  ho  ho  ho  ho  ho  ho  ...   ho   ho   ho   ho   \n",
      "1           1  0.25  ho  ho  ho  ho  ho  ho  ho  ho  ...   ho   ho   ho   ho   \n",
      "2           2  0.50  ho  ho  ho  ho  ho  ho  ho  ho  ...   ho   ho   ho   ho   \n",
      "3           3  0.75  ho  ho  ho  ho  ho  ho  ho  ho  ...   ho   ho   ho   ho   \n",
      "4           4  1.00  ho  ho  ho  ho  ho  ho  ho  ho  ...   ho   ho   ho   ho   \n",
      "\n",
      "  1995 1996 1997 1998 1999 2000  \n",
      "0   ho   ho   ho   ho   ho   ho  \n",
      "1   ho   ho   ho   ho   ho   ho  \n",
      "2   ho   ho   ho   ho   ho   ho  \n",
      "3   ho   ho   ho   ho   ho   ho  \n",
      "4   ho   ho   ho   ho   ho   ho  \n",
      "\n",
      "[5 rows x 2002 columns]\n",
      "   Unnamed: 0      0     1      2      3      4      5      6      7      8  \\\n",
      "0           0  155.0  54.0  203.0  149.0  138.0  116.0  161.0  180.0  311.0   \n",
      "\n",
      "   ...  1990   1991   1992   1993   1994  1995  1996   1997   1998  1999  \n",
      "0  ...  67.0  405.0  472.0  391.0  300.0  92.0  38.0  153.0  134.0  36.0  \n",
      "\n",
      "[1 rows x 2001 columns]\n"
     ]
    }
   ],
   "source": [
    "print(location_EV.head())   \n",
    "print(distance_driven_EV.head())"
   ]
  },
  {
   "cell_type": "code",
   "execution_count": 108,
   "id": "6382f6ee",
   "metadata": {},
   "outputs": [],
   "source": [
    "case_number = 7 \n",
    "# Select the time column and the column \"6\" from both dataframes\n",
    "time = location_EV.iloc[:, 1]  # Assuming the second column is time (first is Unnamed: 0)\n",
    "location_col = location_EV.iloc[:, case_number]\n",
    "distance_driven_case = int(distance_driven_EV.iloc[:, case_number])\n",
    "\n",
    "\n",
    "# Combine into a single dataframe\n",
    "ev_data = pd.DataFrame({\n",
    "    'Time': time,\n",
    "    'Location': location_col,\n",
    "})\n",
    "\n"
   ]
  },
  {
   "cell_type": "code",
   "execution_count": 109,
   "id": "e367fc80",
   "metadata": {},
   "outputs": [
    {
     "name": "stdout",
     "output_type": "stream",
     "text": [
      "Number of 'dr' in the location column: 29\n"
     ]
    }
   ],
   "source": [
    "#count the amount of \"dr\" in the location column\n",
    "dr_count = location_col.str.count('dr').sum()\n",
    "print(f\"Number of 'dr' in the location column: {dr_count}\")\n"
   ]
  },
  {
   "cell_type": "code",
   "execution_count": 110,
   "id": "a618c260",
   "metadata": {},
   "outputs": [],
   "source": [
    "#add a new column called \"distance driven\" to the dataframe and fill it with 0 except for the rows where the location column constains \"dr\"\n",
    "# there, distance_driven_case / dr_count\n",
    "ev_data['Distance Driven'] = 0\n",
    "ev_data.loc[location_col.str.contains('dr'), 'Distance Driven'] = distance_driven_case / dr_count\n",
    "\n"
   ]
  },
  {
   "cell_type": "code",
   "execution_count": 111,
   "id": "78f8d9b5",
   "metadata": {},
   "outputs": [],
   "source": [
    "#add a new column called \"EV_at_home\" with 0 if car is not at home and 1 if car is at home\n",
    "ev_data['EV_at_home'] = 0\n",
    "ev_data.loc[location_col.str.contains('ho'), 'EV_at_home'] = 1"
   ]
  },
  {
   "cell_type": "code",
   "execution_count": 112,
   "id": "db2c8a63",
   "metadata": {},
   "outputs": [
    {
     "name": "stdout",
     "output_type": "stream",
     "text": [
      "         Time Location  Distance Driven  EV_at_home  EV_charging_capacity\n",
      "0    00:00:00       ho              0.0           1                     1\n",
      "1    00:15:00       ho              0.0           1                     1\n",
      "2    00:30:00       ho              0.0           1                     1\n",
      "3    00:45:00       ho              0.0           1                     1\n",
      "4    01:00:00       ho              0.0           1                     1\n",
      "..        ...      ...              ...         ...                   ...\n",
      "667  22:45:00       ho              0.0           1                     1\n",
      "668  23:00:00       ho              0.0           1                     1\n",
      "669  23:15:00       ho              0.0           1                     1\n",
      "670  23:30:00       ho              0.0           1                     1\n",
      "671  23:45:00       ho              0.0           1                     1\n",
      "\n",
      "[672 rows x 5 columns]\n"
     ]
    }
   ],
   "source": [
    "# add a new column calles \"EV_charging_capacity\" if 1 if car is at home, else 0 -> set this column equal to the \"EV_at_home\" column\n",
    "ev_data['EV_charging_capacity'] = ev_data['EV_at_home']\n",
    "\n",
    "\n",
    "# change time column -> 0.25 = 00:15:00\n",
    "\n",
    "ev_data['Time'] = pd.to_timedelta(ev_data['Time'], unit='h').dt.components.apply(\n",
    "    lambda x: f\"{int(x.hours):02}:{int(x.minutes):02}:{int(x.seconds):02}\", axis=1\n",
    ")\n",
    "print(ev_data)\n"
   ]
  },
  {
   "cell_type": "code",
   "execution_count": 113,
   "id": "a227a4c6",
   "metadata": {},
   "outputs": [
    {
     "name": "stdout",
     "output_type": "stream",
     "text": [
      "              Datetime  EV_at_home_hourly  Distance Driven  \\\n",
      "0  2024-07-29 00:00:00                  1         0.000000   \n",
      "1  2024-07-29 01:00:00                  1         0.000000   \n",
      "2  2024-07-29 02:00:00                  1         0.000000   \n",
      "3  2024-07-29 03:00:00                  1         0.000000   \n",
      "4  2024-07-29 04:00:00                  1         0.000000   \n",
      "5  2024-07-29 05:00:00                  1         0.000000   \n",
      "6  2024-07-29 06:00:00                  1         5.551724   \n",
      "7  2024-07-29 07:00:00                  0         0.000000   \n",
      "8  2024-07-29 08:00:00                  0         0.000000   \n",
      "9  2024-07-29 09:00:00                  0         0.000000   \n",
      "10 2024-07-29 10:00:00                  0         0.000000   \n",
      "11 2024-07-29 11:00:00                  0         0.000000   \n",
      "12 2024-07-29 12:00:00                  0         0.000000   \n",
      "13 2024-07-29 13:00:00                  0         0.000000   \n",
      "14 2024-07-29 14:00:00                  0         0.000000   \n",
      "15 2024-07-29 15:00:00                  0         0.000000   \n",
      "16 2024-07-29 16:00:00                  0         0.000000   \n",
      "17 2024-07-29 17:00:00                  0         0.000000   \n",
      "18 2024-07-29 18:00:00                  1         5.551724   \n",
      "19 2024-07-29 19:00:00                  1         0.000000   \n",
      "20 2024-07-29 20:00:00                  1         0.000000   \n",
      "21 2024-07-29 21:00:00                  1         0.000000   \n",
      "22 2024-07-29 22:00:00                  1         0.000000   \n",
      "23 2024-07-29 23:00:00                  1         0.000000   \n",
      "\n",
      "    EV_charging_capacity  Weekday  \n",
      "0                    1.0        0  \n",
      "1                    1.0        0  \n",
      "2                    1.0        0  \n",
      "3                    1.0        0  \n",
      "4                    1.0        0  \n",
      "5                    1.0        0  \n",
      "6                    0.5        0  \n",
      "7                    0.0        0  \n",
      "8                    0.0        0  \n",
      "9                    0.0        0  \n",
      "10                   0.0        0  \n",
      "11                   0.0        0  \n",
      "12                   0.0        0  \n",
      "13                   0.0        0  \n",
      "14                   0.0        0  \n",
      "15                   0.0        0  \n",
      "16                   0.0        0  \n",
      "17                   0.0        0  \n",
      "18                   0.5        0  \n",
      "19                   1.0        0  \n",
      "20                   1.0        0  \n",
      "21                   1.0        0  \n",
      "22                   1.0        0  \n",
      "23                   1.0        0  \n"
     ]
    }
   ],
   "source": [
    "#out of this dataframe create a new dataframe with hourly data\n",
    "# if car is at home in this hour, put 1 in \"EV_at_home_hourly\" else 0\n",
    "# distance is added up for each hour\n",
    "# the capacity is averaged for each hour \n",
    "#time to datetime, starting in august 2024\n",
    "ev_data['Time'] = pd.to_datetime(ev_data['Time'], format='%H:%M:%S', errors='coerce')\n",
    "\n",
    "# Create a list to hold each day's hourly dataframe (with datetime index)\n",
    "ev_data_hourly_days = []\n",
    "\n",
    "# There are 672 rows (15-min intervals for 7 days), so 24 hours per day, 4 intervals per hour\n",
    "intervals_per_day = 24 * 4\n",
    "\n",
    "# Start date for the week\n",
    "start_date = pd.Timestamp('2024-07-29')\n",
    "\n",
    "for day in range(7):\n",
    "    day_slice = ev_data.iloc[day * intervals_per_day : (day + 1) * intervals_per_day].copy()\n",
    "    # Set the correct date for this day\n",
    "    current_date = start_date + pd.Timedelta(days=day)\n",
    "    # Add the date to the time to get full datetime for each row\n",
    "    day_slice['Datetime'] = current_date + pd.to_timedelta(day_slice['Time'].dt.hour, unit='h') \\\n",
    "                            + pd.to_timedelta(day_slice['Time'].dt.minute, unit='m') \\\n",
    "                            + pd.to_timedelta(day_slice['Time'].dt.second, unit='s')\n",
    "    # Group by hour for this day using the Datetime column (floor to hour)\n",
    "    day_slice['Hour'] = day_slice['Datetime'].dt.floor('H')\n",
    "    day_hourly = day_slice.groupby('Hour').agg({\n",
    "        'EV_at_home': 'max',\n",
    "        'Distance Driven': 'sum',\n",
    "        'EV_charging_capacity': 'mean'\n",
    "    }).reset_index().rename(columns={\n",
    "        'Hour': 'Datetime',\n",
    "        'EV_at_home': 'EV_at_home_hourly'\n",
    "    })\n",
    "    # Add a column for the weekday\n",
    "    day_hourly['Weekday'] = day\n",
    "    # Save each day's hourly dataframe separately\n",
    "    globals()[f'ev_data_hourly_day{day}'] = day_hourly\n",
    "    ev_data_hourly_days.append(day_hourly)\n",
    "\n",
    "# print one of the dataframes to check\n",
    "print(ev_data_hourly_day0)"
   ]
  },
  {
   "cell_type": "code",
   "execution_count": 114,
   "id": "139dfcf2",
   "metadata": {},
   "outputs": [],
   "source": [
    "# add all the days together to one dataframe \n",
    "ev_data_hourly_1week = pd.concat([ev_data_hourly_day0,ev_data_hourly_day1,ev_data_hourly_day2,ev_data_hourly_day3,ev_data_hourly_day4,ev_data_hourly_day5,ev_data_hourly_day6], ignore_index=True)\n",
    "ev_data_hourly_1week = ev_data_hourly_1week.sort_values(by='Datetime').reset_index(drop=True)"
   ]
  },
  {
   "cell_type": "code",
   "execution_count": null,
   "id": "ae4775f0",
   "metadata": {},
   "outputs": [
    {
     "name": "stdout",
     "output_type": "stream",
     "text": [
      "               Datetime  EV_at_home_hourly  Distance Driven  \\\n",
      "0   2024-07-29 00:00:00                  1              0.0   \n",
      "1   2024-07-29 01:00:00                  1              0.0   \n",
      "2   2024-07-29 02:00:00                  1              0.0   \n",
      "3   2024-07-29 03:00:00                  1              0.0   \n",
      "4   2024-07-29 04:00:00                  1              0.0   \n",
      "..                  ...                ...              ...   \n",
      "163 2024-08-04 19:00:00                  1              0.0   \n",
      "164 2024-08-04 20:00:00                  1              0.0   \n",
      "165 2024-08-04 21:00:00                  1              0.0   \n",
      "166 2024-08-04 22:00:00                  1              0.0   \n",
      "167 2024-08-04 23:00:00                  1              0.0   \n",
      "\n",
      "     EV_charging_capacity  Weekday  \n",
      "0                     1.0        0  \n",
      "1                     1.0        0  \n",
      "2                     1.0        0  \n",
      "3                     1.0        0  \n",
      "4                     1.0        0  \n",
      "..                    ...      ...  \n",
      "163                   1.0        6  \n",
      "164                   1.0        6  \n",
      "165                   1.0        6  \n",
      "166                   1.0        6  \n",
      "167                   1.0        6  \n",
      "\n",
      "[168 rows x 5 columns]\n",
      "               Datetime  EV_at_home_hourly  Distance Driven  \\\n",
      "0   2024-07-29 00:00:00                  1              0.0   \n",
      "1   2024-07-29 01:00:00                  1              0.0   \n",
      "2   2024-07-29 02:00:00                  1              0.0   \n",
      "3   2024-07-29 03:00:00                  1              0.0   \n",
      "4   2024-07-29 04:00:00                  1              0.0   \n",
      "..                  ...                ...              ...   \n",
      "835 2024-09-01 19:00:00                  1              0.0   \n",
      "836 2024-09-01 20:00:00                  1              0.0   \n",
      "837 2024-09-01 21:00:00                  1              0.0   \n",
      "838 2024-09-01 22:00:00                  1              0.0   \n",
      "839 2024-09-01 23:00:00                  1              0.0   \n",
      "\n",
      "     EV_charging_capacity  Weekday  \n",
      "0                     1.0        0  \n",
      "1                     1.0        0  \n",
      "2                     1.0        0  \n",
      "3                     1.0        0  \n",
      "4                     1.0        0  \n",
      "..                    ...      ...  \n",
      "835                   1.0        6  \n",
      "836                   1.0        6  \n",
      "837                   1.0        6  \n",
      "838                   1.0        6  \n",
      "839                   1.0        6  \n",
      "\n",
      "[840 rows x 5 columns]\n"
     ]
    }
   ],
   "source": [
    "print(ev_data_hourly_1week)\n",
    "\n",
    "# expand this dataframe to 4 weeks\n",
    "ev_data_hourly_5weeks = pd.concat([ev_data_hourly_1week] * 5, ignore_index=True)\n",
    "# Adjust the Datetime to reflect the correct weeks\n",
    "ev_data_hourly_5weeks['Datetime'] += pd.to_timedelta(ev_data_hourly_5weeks.index // 168, unit='W')  # 168 hours in a week\n",
    "print(ev_data_hourly_5weeks)\n",
    "# Save the final dataframe to a CSV file\n",
    "ev_data_hourly_5weeks.to_csv(os.path.join(data_dir, 'ev_data_hourly_5weeks_summer.csv'), index=False)"
   ]
  },
  {
   "cell_type": "code",
   "execution_count": null,
   "id": "1a890640",
   "metadata": {},
   "outputs": [],
   "source": []
  },
  {
   "cell_type": "code",
   "execution_count": null,
   "id": "10029719",
   "metadata": {},
   "outputs": [],
   "source": []
  }
 ],
 "metadata": {
  "kernelspec": {
   "display_name": "optimization_project",
   "language": "python",
   "name": "python3"
  },
  "language_info": {
   "codemirror_mode": {
    "name": "ipython",
    "version": 3
   },
   "file_extension": ".py",
   "mimetype": "text/x-python",
   "name": "python",
   "nbconvert_exporter": "python",
   "pygments_lexer": "ipython3",
   "version": "3.10.16"
  }
 },
 "nbformat": 4,
 "nbformat_minor": 5
}
