{
 "cells": [
  {
   "cell_type": "code",
   "execution_count": 4,
   "id": "ce81e8bf",
   "metadata": {},
   "outputs": [],
   "source": [
    "#read the distance and location files and create a panda dataframe for both\n",
    "import os\n",
    "import pandas as pd\n",
    "\n",
    "project_root = os.path.abspath(os.getcwd())\n",
    "\n",
    "data_dir = os.path.join(project_root, '..', 'data')\n",
    "\n",
    "location_EV = pd.read_csv(os.path.join(data_dir, 'location_detail.csv'), sep=',')\n",
    "\n",
    "distance_driven_EV = pd.read_csv(os.path.join(data_dir, 'distance_driven.csv'), sep=',')\n",
    "\n"
   ]
  },
  {
   "cell_type": "code",
   "execution_count": 6,
   "id": "0d3dc15a",
   "metadata": {},
   "outputs": [
    {
     "name": "stdout",
     "output_type": "stream",
     "text": [
      "   Unnamed: 0     0   1   2   3   4   5   6   7   8  ... 1991 1992 1993 1994  \\\n",
      "0           0  0.00  ho  ho  ho  ho  ho  ho  ho  ho  ...   ho   ho   ho   ho   \n",
      "1           1  0.25  ho  ho  ho  ho  ho  ho  ho  ho  ...   ho   ho   ho   ho   \n",
      "2           2  0.50  ho  ho  ho  ho  ho  ho  ho  ho  ...   ho   ho   ho   ho   \n",
      "3           3  0.75  ho  ho  ho  ho  ho  ho  ho  ho  ...   ho   ho   ho   ho   \n",
      "4           4  1.00  ho  ho  ho  ho  ho  ho  ho  ho  ...   ho   ho   ho   ho   \n",
      "\n",
      "  1995 1996 1997 1998 1999 2000  \n",
      "0   ho   ho   ho   ho   ho   ho  \n",
      "1   ho   ho   ho   ho   ho   ho  \n",
      "2   ho   ho   ho   ho   ho   ho  \n",
      "3   ho   ho   ho   ho   ho   ho  \n",
      "4   ho   ho   ho   ho   ho   ho  \n",
      "\n",
      "[5 rows x 2002 columns]\n",
      "   Unnamed: 0      0     1      2      3      4      5      6      7      8  \\\n",
      "0           0  155.0  54.0  203.0  149.0  138.0  116.0  161.0  180.0  311.0   \n",
      "\n",
      "   ...  1990   1991   1992   1993   1994  1995  1996   1997   1998  1999  \n",
      "0  ...  67.0  405.0  472.0  391.0  300.0  92.0  38.0  153.0  134.0  36.0  \n",
      "\n",
      "[1 rows x 2001 columns]\n"
     ]
    }
   ],
   "source": [
    "print(location_EV.head())   \n",
    "print(distance_driven_EV.head())"
   ]
  },
  {
   "cell_type": "code",
   "execution_count": null,
   "id": "6382f6ee",
   "metadata": {},
   "outputs": [],
   "source": [
    "case_number = 7 \n",
    "# Select the time column and the column \"6\" from both dataframes\n",
    "time = location_EV.iloc[:, 1]  # Assuming the second column is time (first is Unnamed: 0)\n",
    "location_col = location_EV.iloc[:, case_number]\n",
    "distance_driven_case = distance_driven_EV.iloc[:, case_number]\n",
    "\n",
    "# Combine into a single dataframe\n",
    "ev_data = pd.DataFrame({\n",
    "    'Time': time,\n",
    "    'Location': location_col,\n",
    "})\n",
    "\n"
   ]
  },
  {
   "cell_type": "code",
   "execution_count": 21,
   "id": "e367fc80",
   "metadata": {},
   "outputs": [
    {
     "name": "stdout",
     "output_type": "stream",
     "text": [
      "Number of 'dr' in the location column: 29\n"
     ]
    }
   ],
   "source": [
    "#count the amount of \"dr\" in the location column\n",
    "dr_count = location_col.str.count('dr').sum()\n",
    "print(f\"Number of 'dr' in the location column: {dr_count}\")\n"
   ]
  },
  {
   "cell_type": "code",
   "execution_count": 22,
   "id": "a618c260",
   "metadata": {},
   "outputs": [],
   "source": [
    "#add a new column called \"distance driven\" to the dataframe and fill it with 0 except for the rows where the location column constains \"dr\"\n",
    "# there, distance_driven_case / dr_count\n",
    "ev_data['Distance Driven'] = 0\n",
    "ev_data.loc[location_col.str.contains('dr'), 'Distance Driven'] = distance_driven_case / dr_count\n",
    "\n"
   ]
  },
  {
   "cell_type": "code",
   "execution_count": 23,
   "id": "78f8d9b5",
   "metadata": {},
   "outputs": [],
   "source": [
    "#add a new column called \"EV_at_home\" with 0 if car is not at home and 1 if car is at home\n",
    "ev_data['EV_at_home'] = 0\n",
    "ev_data.loc[location_col.str.contains('home'), 'EV_at_home'] = 1"
   ]
  },
  {
   "cell_type": "code",
   "execution_count": 24,
   "id": "139dfcf2",
   "metadata": {},
   "outputs": [],
   "source": [
    "#to csv\n",
    "ev_data.to_csv(os.path.join(data_dir, 'ev_data_combined.csv'), index=False)"
   ]
  },
  {
   "cell_type": "code",
   "execution_count": null,
   "id": "db2c8a63",
   "metadata": {},
   "outputs": [],
   "source": []
  }
 ],
 "metadata": {
  "kernelspec": {
   "display_name": "optimization_project",
   "language": "python",
   "name": "python3"
  },
  "language_info": {
   "codemirror_mode": {
    "name": "ipython",
    "version": 3
   },
   "file_extension": ".py",
   "mimetype": "text/x-python",
   "name": "python",
   "nbconvert_exporter": "python",
   "pygments_lexer": "ipython3",
   "version": "3.10.16"
  }
 },
 "nbformat": 4,
 "nbformat_minor": 5
}
