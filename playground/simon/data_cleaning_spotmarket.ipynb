{
 "cells": [
  {
   "cell_type": "code",
   "execution_count": 10,
   "id": "9905dca8",
   "metadata": {},
   "outputs": [
    {
     "name": "stdout",
     "output_type": "stream",
     "text": [
      "                timestamp  price_EUR_MWh\n",
      "0  2023-08-01T00:00+02:00          71.65\n",
      "1  2023-08-01T01:00+02:00          69.10\n",
      "2  2023-08-01T02:00+02:00          66.82\n",
      "3  2023-08-01T03:00+02:00          64.06\n",
      "4  2023-08-01T04:00+02:00          64.07\n",
      "            timestamp  price_EUR_MWh\n",
      "0 2023-08-01 00:00:00          71.65\n",
      "1 2023-08-01 01:00:00          69.10\n",
      "2 2023-08-01 02:00:00          66.82\n",
      "3 2023-08-01 03:00:00          64.06\n",
      "4 2023-08-01 04:00:00          64.07\n",
      "            timestamp  price_EUR_MWh\n",
      "0 2023-12-01 00:00:00         105.96\n",
      "1 2023-12-01 01:00:00         102.09\n",
      "2 2023-12-01 02:00:00          99.43\n",
      "3 2023-12-01 03:00:00          97.78\n",
      "4 2023-12-01 04:00:00          98.58\n"
     ]
    }
   ],
   "source": [
    "#changing timestamp from 2023-08-01T00:00+02:00 to 2023-08-01T00:00:00:00 in csv-file: Spotmarket_August_2023.csv\n",
    "\n",
    "import os\n",
    "import pandas as pd\n",
    "import numpy as np\n",
    "\n",
    "project_root = os.path.abspath(os.getcwd())\n",
    "\n",
    "data_dir = os.path.join(project_root, '..', '..', 'data')\n",
    "\n",
    "# Summer month\n",
    "\n",
    "spotmarket_summer = pd.read_csv(os.path.join(data_dir, 'Spotmarket_August_2023.csv'), sep=',')\n",
    "spotmarket_winter = pd.read_csv(os.path.join(data_dir, 'Spotmarket_December_2023.csv'), sep=',')\n",
    "\n",
    "print(spotmarket_summer.head())\n",
    "\n",
    "#change timestamp format 2023-12-01T00:00+01:00 to 2023-12-01T00:00:00:00\n",
    "spotmarket_summer['timestamp'] = pd.to_datetime(spotmarket_summer['timestamp']).dt.strftime('%Y-%m-%dT%H:%M:%S')\n",
    "spotmarket_winter['timestamp'] = pd.to_datetime(spotmarket_winter['timestamp']).dt.strftime('%Y-%m-%dT%H:%M:%S')\n",
    "\n",
    "# to datetime\n",
    "spotmarket_summer['timestamp'] = pd.to_datetime(spotmarket_summer['timestamp'])\n",
    "spotmarket_winter['timestamp'] = pd.to_datetime(spotmarket_winter['timestamp'])\n",
    "print(spotmarket_summer.head())\n",
    "print(spotmarket_winter.head())\n",
    "\n",
    "#save csv files\n",
    "spotmarket_summer.to_csv(os.path.join(data_dir, 'Spotmarket_August_Corrected.csv'), index=False)\n",
    "spotmarket_winter.to_csv(os.path.join(data_dir, 'Spotmarket_December_Corrected.csv'), index=False)\n"
   ]
  },
  {
   "cell_type": "code",
   "execution_count": null,
   "id": "a5e00824",
   "metadata": {},
   "outputs": [],
   "source": []
  }
 ],
 "metadata": {
  "kernelspec": {
   "display_name": "optimization_project",
   "language": "python",
   "name": "python3"
  },
  "language_info": {
   "codemirror_mode": {
    "name": "ipython",
    "version": 3
   },
   "file_extension": ".py",
   "mimetype": "text/x-python",
   "name": "python",
   "nbconvert_exporter": "python",
   "pygments_lexer": "ipython3",
   "version": "3.10.16"
  }
 },
 "nbformat": 4,
 "nbformat_minor": 5
}
