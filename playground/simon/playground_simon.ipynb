{
 "cells": [
  {
   "cell_type": "code",
   "execution_count": null,
   "id": "103bbb97",
   "metadata": {
    "vscode": {
     "languageId": "art"
    }
   },
   "outputs": [],
   "source": [
    "# Copyright 2025, Gurobi Optimization, LLC\n",
    "\n",
    "# This example formulates and solves the following simple MIP model\n",
    "# using the matrix API:\n",
    "#  maximize\n",
    "#        x +   y + 2 z\n",
    "#  subject to\n",
    "#        x + 2 y + 3 z <= 4\n",
    "#        x +   y       >= 1\n",
    "#        x, y, z binary\n",
    "\n",
    "import gurobipy as gp\n",
    "from gurobipy import GRB\n",
    "import numpy as np\n",
    "import scipy.sparse as sp\n",
    "\n",
    "try:\n",
    "    # Create a new model\n",
    "    m = gp.Model(\"matrix1\")\n",
    "\n",
    "    # Create variables\n",
    "    x = m.addMVar(shape=3, vtype=GRB.BINARY, name=\"x\")\n",
    "\n",
    "    # Set objective\n",
    "    obj = np.array([1.0, 1.0, 2.0])\n",
    "    m.setObjective(obj @ x, GRB.MAXIMIZE)\n",
    "\n",
    "    # Build (sparse) constraint matrix\n",
    "    val = np.array([1.0, 2.0, 3.0, -1.0, -1.0])\n",
    "    row = np.array([0, 0, 0, 1, 1])\n",
    "    col = np.array([0, 1, 2, 0, 1])\n",
    "\n",
    "    A = sp.csr_matrix((val, (row, col)), shape=(2, 3))\n",
    "\n",
    "    # Build rhs vector\n",
    "    rhs = np.array([4.0, -1.0])\n",
    "\n",
    "    # Add constraints\n",
    "    m.addConstr(A @ x <= rhs, name=\"c\")\n",
    "\n",
    "    # Optimize model\n",
    "    m.optimize()\n",
    "\n",
    "    print(x.X)\n",
    "    print(f\"Obj: {m.ObjVal:g}\")\n",
    "\n",
    "except gp.GurobiError as e:\n",
    "    print(f\"Error code {e.errno}: {e}\")\n",
    "\n",
    "except AttributeError:\n",
    "    print(\"Encountered an attribute error\")"
   ]
  },
  {
   "cell_type": "code",
   "execution_count": null,
   "id": "5e912036",
   "metadata": {
    "vscode": {
     "languageId": "art"
    }
   },
   "outputs": [],
   "source": []
  }
 ],
 "metadata": {
  "language_info": {
   "name": "python"
  }
 },
 "nbformat": 4,
 "nbformat_minor": 5
}
