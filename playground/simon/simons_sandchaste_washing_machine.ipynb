{
 "cells": [
  {
   "cell_type": "code",
   "execution_count": 32,
   "id": "25f08ec5",
   "metadata": {},
   "outputs": [],
   "source": [
    "import pandas as pd\n",
    "import numpy as np\n",
    "import gurobipy as gp\n",
    "from gurobipy import GRB\n",
    "import os"
   ]
  },
  {
   "cell_type": "markdown",
   "id": "693d4084",
   "metadata": {},
   "source": [
    "### Loading Price Data"
   ]
  },
  {
   "cell_type": "code",
   "execution_count": 33,
   "id": "c2f622b8",
   "metadata": {},
   "outputs": [],
   "source": [
    "project_root = os.path.abspath(os.getcwd())\n",
    "\n",
    "data_dir = os.path.join(project_root, '..', '..', 'data')\n",
    "\n",
    "# Summer month\n",
    "\n",
    "p_summer = pd.read_csv(os.path.join(data_dir, 'Spotmarket_August_2024.csv'),sep=';')\n",
    "\n",
    "# Winter month\n",
    "\n",
    "p_winter = pd.read_csv(os.path.join(data_dir, 'Spotmarket_December_2024.csv'),sep=';')\n",
    "\n",
    "#Spotmarket data from: https://energy-charts.info/charts/price_spot_market/chart.htm?l=en&c=CH&interval=month&year=2024&legendItems=by4&month=12\n"
   ]
  },
  {
   "cell_type": "markdown",
   "id": "213fbe93",
   "metadata": {},
   "source": [
    "### Loading Fixed Appliances Data"
   ]
  },
  {
   "cell_type": "code",
   "execution_count": 34,
   "id": "2ca11976",
   "metadata": {},
   "outputs": [],
   "source": [
    "#TV consumption data for summer month\n",
    "tv_summer = pd.read_csv(os.path.join(data_dir, 'tv_consumption_august_2024_detailed.csv'), sep=',')\n",
    "\n",
    "#TV consumption data for winter month\n",
    "tv_winter = pd.read_csv(os.path.join(data_dir, 'tv_consumption_december_2024_detailed.csv'), sep=',')\n",
    "\n",
    "#Lighting consumption data for summer month\n",
    "lighting_summer = pd.read_csv(os.path.join(data_dir, 'lighting_consumption_august_2024.csv'), sep=',')\n",
    "\n",
    "#Lighting consumption data for winter month\n",
    "lighting_winter = pd.read_csv(os.path.join(data_dir, 'lighting_consumption_december_2024.csv'), sep=',')\n",
    "\n",
    "#Fridge consumption data for summer month\n",
    "fridge_summer = pd.read_csv(os.path.join(data_dir, 'fridge_August_2024.csv'), sep=';')\n",
    "\n",
    "#Fridge consumption data for winter month\n",
    "fridge_winter = pd.read_csv(os.path.join(data_dir, 'fridge_December_2024.csv'), sep=';')\n",
    "\n",
    "#Oven consumption data for summer month\n",
    "oven_summer = pd.read_csv(os.path.join(data_dir, 'Oven_Energy_Consumption_August_2024.csv'),sep=';')\n",
    "\n",
    "#Oven consumption data for winter month\n",
    "oven_winter = pd.read_csv(os.path.join(data_dir, 'Oven_Energy_Consumption_December_2024.csv'),sep=';')\n",
    "\n",
    "#Induction stove consumption data for summer month\n",
    "induction_summer = pd.read_csv(os.path.join(data_dir, 'Induction_Stove_Energy_Consumption_August_2024.csv'),sep=';')\n",
    "\n",
    "#Induction stove consumption data for winter month\n",
    "induction_winter = pd.read_csv(os.path.join(data_dir, 'Induction_Stove_Energy_Consumption_December_2024.csv'),sep=';')\n"
   ]
  },
  {
   "cell_type": "markdown",
   "id": "f11f2ceb",
   "metadata": {},
   "source": [
    "### Data formatting"
   ]
  },
  {
   "cell_type": "code",
   "execution_count": 35,
   "id": "810f398d",
   "metadata": {},
   "outputs": [],
   "source": [
    "#get column names\n",
    "p_summer.columns = p_summer.columns.str.replace(' ', '_')\n",
    "p_winter.columns = p_winter.columns.str.replace(' ', '_')\n",
    "tv_summer.columns = tv_summer.columns.str.replace(' ', '_')\n",
    "tv_winter.columns = tv_winter.columns.str.replace(' ', '_')\n",
    "lighting_summer.columns = lighting_summer.columns.str.replace(' ', '_')\n",
    "lighting_winter.columns = lighting_winter.columns.str.replace(' ', '_')\n",
    "fridge_summer.columns = fridge_summer.columns.str.replace(' ', '_')\n",
    "fridge_winter.columns = fridge_winter.columns.str.replace(' ', '_')\n",
    "oven_summer.columns = oven_summer.columns.str.replace(' ', '_')\n",
    "oven_winter.columns = oven_winter.columns.str.replace(' ', '_')\n",
    "induction_summer.columns = induction_summer.columns.str.replace(' ', '_')\n",
    "induction_winter.columns = induction_winter.columns.str.replace(' ','_')\n"
   ]
  },
  {
   "cell_type": "markdown",
   "id": "32d2b1ea",
   "metadata": {},
   "source": [
    "### Optimization"
   ]
  },
  {
   "cell_type": "code",
   "execution_count": 58,
   "id": "cb759801",
   "metadata": {},
   "outputs": [],
   "source": [
    "import pandas as pd\n",
    "import gurobipy as gp\n",
    "import itertools\n",
    "from gurobipy import GRB\n",
    "\n",
    "# Load data\n",
    "price = p_summer[\"Price_(EUR/MWh)\"].values\n",
    "fridge = fridge_summer[\"Energy_kWh_1h\"].values\n",
    "stove = induction_summer[\"Energy_Consumption_kWh\"].values\n",
    "tv = tv_summer[\"tv_power_kWh\"].values\n",
    "lighting = lighting_summer[\"lighting_power_kWh\"].values\n",
    "\n",
    "Time_interval = len(price)\n",
    "\n",
    "# Dishwasher properties\n",
    "duration = 3  # hours of operation\n",
    "min_gap = 15  # hours between runs\n",
    "power_dishwasher = 1.5  # kW during operation\n",
    "\n",
    "# Gurobi model\n",
    "model = gp.Model(\"automated_demand_response\")\n",
    "\n",
    "# Binary start variables: 1 if dishwasher starts at hour t\n",
    "start_times = range(Time_interval - duration + 1)\n",
    "dishwasher_start = model.addVars(start_times, vtype=GRB.BINARY, name=\"start\")\n",
    "\n",
    "# Binary on variables: 1 if dishwasher is on at hour t\n",
    "binary_dishwasher = model.addVars(Time_interval, vtype=GRB.BINARY, name=\"on\")\n",
    "\n",
    "for t, k in itertools.product(range(len(start_times)), range(duration)):\n",
    "    model.addConstr(binary_dishwasher[t + k] >= dishwasher_start[t], name=f\"dishwasher_{t}_{k}\")\n",
    "\n",
    "for t in range(len(start_times)-1):\n",
    "    model.addConstr(gp.quicksum(binary_dishwasher[t + k] for k in range(duration+1)) <= 3, name=f\"max_three_hours_on_{t}\")\n",
    "\n",
    "\n",
    "# Enforce min 1 run per day\n",
    "#adds up all possible start times of the dishwasher in a single and '>= 1' day ensures that the dishwasher has to run once per day\n",
    "hours_per_day = 24\n",
    "days = Time_interval // hours_per_day\n",
    "for d in range(days-1):\n",
    "    model.addConstr(gp.quicksum(dishwasher_start[t] for t in range(d * 24, (d + 1) * 24)) == 1,\n",
    "                name=f\"max_one_run_per_day_dishwasher_{d}\")\n",
    "    \n",
    "# Enforce max 1 run per day of max 3 hours\n",
    "#adds up all possible start times of the dishwasher in a single and '<= 1' day ensures that the dishwasher doesn't run more than once per day\n",
    "hours_per_day = 24\n",
    "days = Time_interval // hours_per_day\n",
    "for d in range(days-1):\n",
    "    model.addConstr(gp.quicksum(binary_dishwasher[t] for t in range(d * 24, (d + 1) * 24)) == 3,\n",
    "                name=f\"max_one_run_per_day_dishwasher_{d}\")\n",
    "\n",
    "# Enforce minimum gap (15 hours) between two starts\n",
    "#multiplying with min_gap so we don't constrain the dishwasher to start at the same time every day\n",
    "#this enures that the optimizer can iterate through without being constrained to a single time\n",
    "for t in range(len(start_times)-min_gap):\n",
    "    model.addConstr(gp.quicksum(dishwasher_start[t + offset] for offset in range(1, min_gap + 1)) <= (1 - dishwasher_start[t]) * min_gap,\n",
    "                name=f\"min_gap_after_{t}\")\n",
    "    \n",
    "#print(len(fridge))\n",
    "#print(len(stove))\n",
    "#print(len(tv))\n",
    "#print(len(lighting))\n",
    "#print(len(price))\n",
    "#print(len(dishwasher_start))\n",
    "#print(len(binary_dishwasher))\n",
    "#print(len(start_times))\n",
    "\n"
   ]
  },
  {
   "cell_type": "code",
   "execution_count": null,
   "id": "c1bb3f82",
   "metadata": {},
   "outputs": [
    {
     "name": "stdout",
     "output_type": "stream",
     "text": [
      "Gurobi Optimizer version 12.0.1 build v12.0.1rc0 (mac64[x86] - Darwin 21.6.0 21H1320)\n",
      "\n",
      "CPU model: Intel(R) Core(TM) i5-6267U CPU @ 2.90GHz\n",
      "Thread count: 2 physical cores, 4 logical processors, using up to 4 threads\n",
      "\n",
      "Optimize a model with 14155 rows, 12641 columns and 45748 nonzeros\n",
      "Model fingerprint: 0x98f0fb0f\n",
      "Variable types: 0 continuous, 12641 integer (12641 binary)\n",
      "Coefficient statistics:\n",
      "  Matrix range     [1e+00, 2e+01]\n",
      "  Objective range  [3e-02, 5e+02]\n",
      "  Bounds range     [1e+00, 1e+00]\n",
      "  RHS range        [1e+00, 2e+01]\n",
      "\n",
      "MIP start from previous solve produced solution with objective 39297.3 (0.20s)\n",
      "MIP start from previous solve produced solution with objective 39295.8 (0.20s)\n",
      "MIP start from previous solve produced solution with objective 39257.1 (0.22s)\n",
      "Loaded MIP start from previous solve with objective 39257.1\n",
      "\n",
      "Presolve removed 12850 rows and 11200 columns\n",
      "Presolve time: 0.27s\n",
      "Presolved: 1305 rows, 1441 columns, 11634 nonzeros\n",
      "Variable types: 0 continuous, 1441 integer (1441 binary)\n",
      "\n",
      "Root relaxation: cutoff, 260 iterations, 0.01 seconds (0.00 work units)\n",
      "\n",
      "    Nodes    |    Current Node    |     Objective Bounds      |     Work\n",
      " Expl Unexpl |  Obj  Depth IntInf | Incumbent    BestBd   Gap | It/Node Time\n",
      "\n",
      "     0     0     cutoff    0      39257.0582 39257.0582  0.00%     -    0s\n",
      "\n",
      "Explored 1 nodes (260 simplex iterations) in 0.54 seconds (0.14 work units)\n",
      "Thread count was 4 (of 4 available processors)\n",
      "\n",
      "Solution count 3: 39257.1 39295.8 39297.3 \n",
      "\n",
      "Optimal solution found (tolerance 1.00e-04)\n",
      "Best objective 3.925705817150e+04, best bound 3.925705817150e+04, gap 0.0000%\n"
     ]
    }
   ],
   "source": [
    "### including the washing machine\n",
    "# washing_machine properties\n",
    "duration_wm = 2  # hours of operation\n",
    "min_gap_wm = 1  # hours between runs\n",
    "power_wm = 3  # kW during operation -> should be double checked\n",
    "wm_runs_per_week = 4\n",
    "\n",
    "binary_wm = model.addVars(Time_interval, vtype=GRB.BINARY, name=\"on_wm\")\n",
    "\n",
    "# Binary start variables: 1 if washing machine starts at hour t\n",
    "\n",
    "start_times_wm = range(Time_interval - duration_wm + 1)\n",
    "wm_start = model.addVars(start_times_wm, vtype=GRB.BINARY, name=\"start_wm\")\n",
    "\n",
    "# Binary on variables: 1 if dishwasher is on at hour t\n",
    "\n",
    "binary_wm = model.addVars(Time_interval, vtype=GRB.BINARY, name=\"on_wm\")\n",
    "\n",
    "# When washing machine is on, it must be running -> wm_start is 1 -> binary_wm at the same time + duration_wm is 1 \n",
    "\n",
    "for t, k in itertools.product(range(len(start_times_wm)), range(duration_wm)):\n",
    "    model.addConstr(binary_wm[t + k] >= wm_start[t], name=f\"wm_{t}_{k}\")\n",
    "\n",
    "for t in range(len(start_times_wm)-duration_wm):\n",
    "    model.addConstr(gp.quicksum(binary_wm[t + k] for k in range(duration_wm+1)) <= duration_wm, name=f\"wm_max_two_hours_on_{t}\")\n",
    "\n",
    "\n",
    "# Enforce min 4 runs per week -> if negative prices, can run more than 4 times, for now: exactly 4 times\n",
    "#adds up all possible start times of the dishwasher in a single and '>= 1' day ensures that the washing machine has to run twice per week\n",
    "\n",
    "hours_per_week = 24*7\n",
    "weeks = Time_interval // hours_per_week\n",
    "for week in range(weeks-1):\n",
    "    model.addConstr(gp.quicksum(wm_start[t] for t in range(week * 24 * 7, (week + 1) * 24 * 7)) == wm_runs_per_week,\n",
    "                name=f\"wm_four_runs_per_week_{week}\")\n",
    "\n",
    "\n",
    "# Enforce minimum gap (1 hour) between two starts\n",
    "\n",
    "for t in range(len(start_times_wm)-min_gap_wm):\n",
    "    model.addConstr(gp.quicksum(wm_start[t + offset] for offset in range(1, min_gap_wm + 1)) <= (1 - wm_start[t]) * min_gap_wm,\n",
    "                name=f\"min_gap_after_washing_wm_{t}\")\n",
    "    \n",
    "#washing machine can only run during certain hours of the day, during the week after 4pm and on weekends after 10am\n",
    "#times_washing_machine = ...\n",
    "#build so we have dictionary with timestamp and and if allowed or not with binary variables\n",
    "#link this to the other dataframes so everything si coherent -> best we change it and create just one big datafram with everything inside\n",
    "\n",
    "\n",
    "# Total power consumption including fixed and dishwasher\n",
    "total_load = [fridge[t] + stove[t] + tv[t] + lighting[t] + power_dishwasher * binary_dishwasher[t] + power_wm * binary_wm[t] for t in range(0,720)]\n",
    "\n",
    "# Objective: minimize total electricity cost\n",
    "model.setObjective(gp.quicksum(price[t] * total_load[t] for t in range(720)), GRB.MINIMIZE)\n",
    "\n",
    "# Optimize\n",
    "model.optimize()\n",
    "\n"
   ]
  },
  {
   "cell_type": "code",
   "execution_count": 69,
   "id": "9a8fa200",
   "metadata": {},
   "outputs": [
    {
     "name": "stdout",
     "output_type": "stream",
     "text": [
      "Total cost: 39257.06\n",
      "Washing machine starts at: 03.08.24 13:00\n",
      "Washing machine starts at: 04.08.24 11:00\n",
      "Washing machine starts at: 04.08.24 14:00\n",
      "Washing machine starts at: 06.08.24 13:00\n",
      "Washing machine starts at: 10.08.24 10:00\n",
      "Washing machine starts at: 10.08.24 13:00\n",
      "Washing machine starts at: 11.08.24 10:00\n",
      "Washing machine starts at: 11.08.24 13:00\n",
      "Washing machine starts at: 15.08.24 12:00\n",
      "Washing machine starts at: 15.08.24 15:00\n",
      "Washing machine starts at: 20.08.24 13:00\n",
      "Washing machine starts at: 21.08.24 13:00\n",
      "Washing machine schedule:\n",
      "['03.08.24 13:00', '04.08.24 11:00', '04.08.24 14:00', '06.08.24 13:00', '10.08.24 10:00', '10.08.24 13:00', '11.08.24 10:00', '11.08.24 13:00', '15.08.24 12:00', '15.08.24 15:00', '20.08.24 13:00', '21.08.24 13:00']\n"
     ]
    }
   ],
   "source": [
    "#debugging washing machine\n",
    "wm_starts_list = []\n",
    "# Output washing machine schedule\n",
    "if model.status == GRB.OPTIMAL:\n",
    "    print(f\"Total cost: {model.ObjVal:.2f}\")\n",
    "    for t in range(Time_interval-duration_wm+1):\n",
    "        if wm_start[t].X > 0.5:\n",
    "            print(f\"Washing machine starts at: {p_summer['Date_(GMT+2)'][t]}\")\n",
    "            wm_starts_list.append(p_summer['Date_(GMT+2)'][t])\n",
    "\n",
    "\n",
    "print(\"Washing machine schedule:\")\n",
    "print(wm_starts_list)"
   ]
  },
  {
   "cell_type": "code",
   "execution_count": 51,
   "id": "25d09bb0",
   "metadata": {},
   "outputs": [
    {
     "name": "stdout",
     "output_type": "stream",
     "text": [
      "Model has not been solved to optimality. Unable to retrieve variable values.\n"
     ]
    }
   ],
   "source": [
    "#print timestamp and the corresponding state of the dishwasher\n",
    "if model.status == GRB.OPTIMAL:\n",
    "    for t in range(Time_interval):\n",
    "        if binary_wm[t].X > 0.5:\n",
    "            print(f\"Washing Machine is ON at: {p_summer['Date_(GMT+2)'][t]}\")\n",
    "        else:\n",
    "            print(f\"Washing Machine is OFF at: {p_summer['Date_(GMT+2)'][t]}\")\n",
    "else:\n",
    "    print(\"Model has not been solved to optimality. Unable to retrieve variable values.\")"
   ]
  },
  {
   "cell_type": "code",
   "execution_count": 43,
   "id": "5bc14233",
   "metadata": {},
   "outputs": [
    {
     "name": "stdout",
     "output_type": "stream",
     "text": [
      "Dishwasher schedule:\n",
      "[]\n"
     ]
    }
   ],
   "source": [
    "#debugging dishwasher\n",
    "\n",
    "dishwasher_starts_list = []\n",
    "# Output dishwasher schedule\n",
    "if model.status == GRB.OPTIMAL:\n",
    "    print(f\"Total cost: {model.ObjVal:.2f}\")\n",
    "    for t in range(Time_interval):\n",
    "        if dishwasher_start.get(t) and dishwasher_start[t].X > 0.5:\n",
    "            print(f\"Dishwasher starts at: {p_summer['Date_(GMT+2)'][t]}\")\n",
    "            dishwasher_starts_list.append(p_summer['Date_(GMT+2)'][t])\n",
    "\n",
    "\n",
    "print(\"Dishwasher schedule:\")\n",
    "print(dishwasher_starts_list)"
   ]
  },
  {
   "cell_type": "code",
   "execution_count": 45,
   "id": "bf59f13b",
   "metadata": {},
   "outputs": [
    {
     "name": "stdout",
     "output_type": "stream",
     "text": [
      "Model has not been solved to optimality. Unable to retrieve variable values.\n"
     ]
    }
   ],
   "source": [
    "#print timestamp and the corresponding state of the dishwasher\n",
    "if model.status == GRB.OPTIMAL:\n",
    "    for t in range(Time_interval):\n",
    "        if binary_dishwasher[t].X > 0.5:\n",
    "            print(f\"Dishwasher is ON at: {p_summer['Date_(GMT+2)'][t]}\")\n",
    "        else:\n",
    "            print(f\"Dishwasher is OFF at: {p_summer['Date_(GMT+2)'][t]}\")\n",
    "else:\n",
    "    print(\"Model has not been solved to optimality. Unable to retrieve variable values.\")\n"
   ]
  },
  {
   "cell_type": "code",
   "execution_count": 41,
   "id": "ea24a81c",
   "metadata": {},
   "outputs": [
    {
     "ename": "AttributeError",
     "evalue": "Unable to retrieve attribute 'X'",
     "output_type": "error",
     "traceback": [
      "\u001b[0;31m---------------------------------------------------------------------------\u001b[0m",
      "\u001b[0;31mAttributeError\u001b[0m                            Traceback (most recent call last)",
      "Cell \u001b[0;32mIn[41], line 3\u001b[0m\n\u001b[1;32m      1\u001b[0m \u001b[38;5;66;03m#print dishwasher start times\u001b[39;00m\n\u001b[1;32m      2\u001b[0m \u001b[38;5;28;01mfor\u001b[39;00m t \u001b[38;5;129;01min\u001b[39;00m \u001b[38;5;28mrange\u001b[39m(Time_interval\u001b[38;5;241m-\u001b[39m\u001b[38;5;241m2\u001b[39m):\n\u001b[0;32m----> 3\u001b[0m     \u001b[38;5;28;01mif\u001b[39;00m \u001b[43mdishwasher_start\u001b[49m\u001b[43m[\u001b[49m\u001b[43mt\u001b[49m\u001b[43m]\u001b[49m\u001b[38;5;241;43m.\u001b[39;49m\u001b[43mX\u001b[49m \u001b[38;5;241m>\u001b[39m \u001b[38;5;241m0.5\u001b[39m:\n\u001b[1;32m      4\u001b[0m         \u001b[38;5;28mprint\u001b[39m(\u001b[38;5;124mf\u001b[39m\u001b[38;5;124m\"\u001b[39m\u001b[38;5;124mDishwasher start time: \u001b[39m\u001b[38;5;132;01m{\u001b[39;00mp_summer[\u001b[38;5;124m'\u001b[39m\u001b[38;5;124mDate_(GMT+2)\u001b[39m\u001b[38;5;124m'\u001b[39m][t]\u001b[38;5;132;01m}\u001b[39;00m\u001b[38;5;124m\"\u001b[39m)\n",
      "File \u001b[0;32msrc/gurobipy/var.pxi:128\u001b[0m, in \u001b[0;36mgurobipy._core.Var.__getattr__\u001b[0;34m()\u001b[0m\n",
      "File \u001b[0;32msrc/gurobipy/var.pxi:156\u001b[0m, in \u001b[0;36mgurobipy._core.Var.getAttr\u001b[0;34m()\u001b[0m\n",
      "File \u001b[0;32msrc/gurobipy/_attrutil.pyx:117\u001b[0m, in \u001b[0;36mgurobipy._attrutil._getattr\u001b[0;34m()\u001b[0m\n",
      "\u001b[0;31mAttributeError\u001b[0m: Unable to retrieve attribute 'X'"
     ]
    }
   ],
   "source": [
    "#print dishwasher start times\n",
    "for t in range(Time_interval-2):\n",
    "    if dishwasher_start[t].X > 0.5:\n",
    "        print(f\"Dishwasher start time: {p_summer['Date_(GMT+2)'][t]}\")"
   ]
  },
  {
   "cell_type": "code",
   "execution_count": null,
   "id": "42c0ff46",
   "metadata": {},
   "outputs": [],
   "source": []
  }
 ],
 "metadata": {
  "kernelspec": {
   "display_name": "optimization_project",
   "language": "python",
   "name": "python3"
  },
  "language_info": {
   "codemirror_mode": {
    "name": "ipython",
    "version": 3
   },
   "file_extension": ".py",
   "mimetype": "text/x-python",
   "name": "python",
   "nbconvert_exporter": "python",
   "pygments_lexer": "ipython3",
   "version": "3.10.16"
  }
 },
 "nbformat": 4,
 "nbformat_minor": 5
}
