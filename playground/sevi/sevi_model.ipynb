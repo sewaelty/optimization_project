{
 "cells": [
  {
   "cell_type": "code",
   "execution_count": 2,
   "id": "25f08ec5",
   "metadata": {},
   "outputs": [],
   "source": [
    "import pandas as pd\n",
    "import numpy as np\n",
    "import gurobipy as gp\n",
    "from gurobipy import GRB\n",
    "import os"
   ]
  },
  {
   "cell_type": "markdown",
   "id": "693d4084",
   "metadata": {},
   "source": [
    "### Loading Price Data"
   ]
  },
  {
   "cell_type": "code",
   "execution_count": 3,
   "id": "c2f622b8",
   "metadata": {},
   "outputs": [],
   "source": [
    "project_root = os.path.abspath(os.getcwd())\n",
    "\n",
    "data_dir = os.path.join(project_root, 'data')\n",
    "\n",
    "# Summer month\n",
    "\n",
    "p_summer = pd.read_csv(os.path.join(data_dir, 'Spotmarket_August_2024.csv'),sep=';')\n",
    "\n",
    "# Winter month\n",
    "\n",
    "p_winter = pd.read_csv(os.path.join(data_dir, 'Spotmarket_December_2024.csv'),sep=';')\n",
    "\n",
    "#Spotmarket data from: https://energy-charts.info/charts/price_spot_market/chart.htm?l=en&c=CH&interval=month&year=2024&legendItems=by4&month=12\n"
   ]
  },
  {
   "cell_type": "markdown",
   "id": "213fbe93",
   "metadata": {},
   "source": [
    "### Loading Fixed Appliances Data"
   ]
  },
  {
   "cell_type": "code",
   "execution_count": 20,
   "id": "2ca11976",
   "metadata": {},
   "outputs": [],
   "source": [
    "#TV consumption data for summer month\n",
    "tv_summer = pd.read_csv(os.path.join(data_dir, 'tv_consumption_august_2024_detailed.csv'), sep=',')\n",
    "\n",
    "#TV consumption data for winter month\n",
    "tv_winter = pd.read_csv(os.path.join(data_dir, 'tv_consumption_december_2024_detailed.csv'), sep=',')\n",
    "\n",
    "#Lighting consumption data for summer month\n",
    "lighting_summer = pd.read_csv(os.path.join(data_dir, 'lighting_consumption_august_2024.csv'), sep=',')\n",
    "\n",
    "#Lighting consumption data for winter month\n",
    "lighting_winter = pd.read_csv(os.path.join(data_dir, 'lighting_consumption_december_2024.csv'), sep=',')\n",
    "\n",
    "#Fridge consumption data for summer month\n",
    "fridge_summer = pd.read_csv(os.path.join(data_dir, 'fridge_August_2024.csv'), sep=';')\n",
    "\n",
    "#Fridge consumption data for winter month\n",
    "fridge_winter = pd.read_csv(os.path.join(data_dir, 'fridge_December_2024.csv'), sep=';')\n",
    "\n",
    "#Oven consumption data for summer month\n",
    "oven_summer = pd.read_csv(os.path.join(data_dir, 'Oven_Energy_Consumption_August_2024.csv'),sep=';')\n",
    "\n",
    "#Oven consumption data for winter month\n",
    "oven_winter = pd.read_csv(os.path.join(data_dir, 'Oven_Energy_Consumption_December_2024.csv'),sep=';')\n",
    "\n",
    "#Induction stove consumption data for summer month\n",
    "induction_summer = pd.read_csv(os.path.join(data_dir, 'Induction_Stove_Energy_Consumption_August_2024.csv'),sep=';')\n",
    "\n",
    "#Induction stove consumption data for winter month\n",
    "induction_winter = pd.read_csv(os.path.join(data_dir, 'Induction_Stove_Energy_Consumption_December_2024.csv'),sep=';')\n"
   ]
  },
  {
   "cell_type": "markdown",
   "id": "f11f2ceb",
   "metadata": {},
   "source": [
    "### Data formatting"
   ]
  },
  {
   "cell_type": "code",
   "execution_count": 46,
   "id": "810f398d",
   "metadata": {},
   "outputs": [],
   "source": [
    "#get column names\n",
    "p_summer.columns = p_summer.columns.str.replace(' ', '_')\n",
    "p_winter.columns = p_winter.columns.str.replace(' ', '_')\n",
    "tv_summer.columns = tv_summer.columns.str.replace(' ', '_')\n",
    "tv_winter.columns = tv_winter.columns.str.replace(' ', '_')\n",
    "lighting_summer.columns = lighting_summer.columns.str.replace(' ', '_')\n",
    "lighting_winter.columns = lighting_winter.columns.str.replace(' ', '_')\n",
    "fridge_summer.columns = fridge_summer.columns.str.replace(' ', '_')\n",
    "fridge_winter.columns = fridge_winter.columns.str.replace(' ', '_')\n",
    "oven_summer.columns = oven_summer.columns.str.replace(' ', '_')\n",
    "oven_winter.columns = oven_winter.columns.str.replace(' ', '_')\n",
    "induction_summer.columns = induction_summer.columns.str.replace(' ', '_')\n",
    "induction_winter.columns = induction_winter.columns.str.replace(' ','_')\n"
   ]
  },
  {
   "cell_type": "markdown",
   "id": "32d2b1ea",
   "metadata": {},
   "source": [
    "### Optimization"
   ]
  },
  {
   "cell_type": "code",
   "execution_count": 48,
   "id": "cb759801",
   "metadata": {},
   "outputs": [
    {
     "name": "stdout",
     "output_type": "stream",
     "text": [
      "Gurobi Optimizer version 12.0.1 build v12.0.1rc0 (mac64[x86] - Darwin 21.6.0 21H1320)\n",
      "\n",
      "CPU model: Intel(R) Core(TM) i5-6267U CPU @ 2.90GHz\n",
      "Thread count: 2 physical cores, 4 logical processors, using up to 4 threads\n",
      "\n",
      "Optimize a model with 2983 rows, 1486 columns and 16744 nonzeros\n",
      "Model fingerprint: 0xbbe4a140\n",
      "Variable types: 0 continuous, 1486 integer (1486 binary)\n",
      "Coefficient statistics:\n",
      "  Matrix range     [1e+00, 2e+01]\n",
      "  Objective range  [3e-02, 2e+02]\n",
      "  Bounds range     [1e+00, 1e+00]\n",
      "  RHS range        [1e+00, 2e+01]\n",
      "Found heuristic solution: objective 42767.103172\n",
      "Presolve removed 2445 rows and 966 columns\n",
      "Presolve time: 0.18s\n",
      "Presolved: 538 rows, 520 columns, 6535 nonzeros\n",
      "Found heuristic solution: objective 41941.428172\n",
      "Variable types: 0 continuous, 520 integer (520 binary)\n",
      "\n",
      "Root relaxation: objective 3.941288e+04, 30 iterations, 0.00 seconds (0.00 work units)\n",
      "\n",
      "    Nodes    |    Current Node    |     Objective Bounds      |     Work\n",
      " Expl Unexpl |  Obj  Depth IntInf | Incumbent    BestBd   Gap | It/Node Time\n",
      "\n",
      "*    0     0               0    39412.878172 39412.8782  0.00%     -    0s\n",
      "\n",
      "Explored 1 nodes (30 simplex iterations) in 0.30 seconds (0.06 work units)\n",
      "Thread count was 4 (of 4 available processors)\n",
      "\n",
      "Solution count 3: 39412.9 41941.4 42767.1 \n",
      "\n",
      "Optimal solution found (tolerance 1.00e-04)\n",
      "Best objective 3.941287817150e+04, best bound 3.941287817150e+04, gap 0.0000%\n",
      "Total cost: 39412.88\n",
      "Dishwasher starts at: 01.08.24 13:00\n",
      "Dishwasher starts at: 02.08.24 07:00\n",
      "Dishwasher starts at: 03.08.24 13:00\n",
      "Dishwasher starts at: 04.08.24 13:00\n",
      "Dishwasher starts at: 05.08.24 12:00\n",
      "Dishwasher starts at: 06.08.24 12:00\n",
      "Dishwasher starts at: 07.08.24 13:00\n",
      "Dishwasher starts at: 08.08.24 13:00\n",
      "Dishwasher starts at: 09.08.24 12:00\n",
      "Dishwasher starts at: 10.08.24 13:00\n",
      "Dishwasher starts at: 11.08.24 13:00\n",
      "Dishwasher starts at: 12.08.24 12:00\n",
      "Dishwasher starts at: 13.08.24 12:00\n",
      "Dishwasher starts at: 14.08.24 21:00\n",
      "Dishwasher starts at: 15.08.24 13:00\n",
      "Dishwasher starts at: 16.08.24 12:00\n",
      "Dishwasher starts at: 17.08.24 13:00\n",
      "Dishwasher starts at: 18.08.24 13:00\n",
      "Dishwasher starts at: 19.08.24 12:00\n",
      "Dishwasher starts at: 20.08.24 12:00\n",
      "Dishwasher starts at: 21.08.24 13:00\n",
      "Dishwasher starts at: 22.08.24 12:00\n",
      "Dishwasher starts at: 23.08.24 12:00\n",
      "Dishwasher starts at: 24.08.24 13:00\n",
      "Dishwasher starts at: 25.08.24 13:00\n",
      "Dishwasher starts at: 26.08.24 12:00\n",
      "Dishwasher starts at: 27.08.24 12:00\n",
      "Dishwasher starts at: 28.08.24 12:00\n",
      "Dishwasher starts at: 29.08.24 12:00\n",
      "Dishwasher starts at: 30.08.24 12:00\n"
     ]
    }
   ],
   "source": [
    "import pandas as pd\n",
    "import gurobipy as gp\n",
    "from gurobipy import GRB\n",
    "\n",
    "# Load data\n",
    "price = p_summer[\"Price_(EUR/MWh)\"].values\n",
    "fridge = fridge_summer[\"Energy_kWh_1h\"].values\n",
    "stove = induction_summer[\"Energy_Consumption_kWh\"].values\n",
    "tv = tv_summer[\"tv_power_kWh\"].values\n",
    "lighting = lighting_summer[\"lighting_power_kWh\"].values\n",
    "\n",
    "Time_interval = len(price)\n",
    "\n",
    "# Dishwasher properties\n",
    "duration = 3  # hours of operation\n",
    "min_gap = 15  # hours between runs\n",
    "power_dishwasher = 1.5  # kW during operation\n",
    "\n",
    "# Gurobi model\n",
    "model = gp.Model(\"automated_demand_response\")\n",
    "\n",
    "# Binary start variables: 1 if dishwasher starts at hour t\n",
    "start_times = range(Time_interval - duration + 1)\n",
    "dishwasher_start = model.addVars(start_times, vtype=GRB.BINARY, name=\"start\")\n",
    "\n",
    "# Binary on variables: 1 if dishwasher is on at hour t\n",
    "binary_dishwasher = model.addVars(Time_interval, vtype=GRB.BINARY, name=\"on\")\n",
    "\n",
    "# Link start and operation: if start_times[t]=1, then dishwasher_start[t] to dishwasher_start[t+2] = 1\n",
    "for t in range(len(start_times)):\n",
    "    for k in range(duration):\n",
    "        model.addConstr(binary_dishwasher[t + k] >= dishwasher_start[t], name=f\"dishwasher_{t}_{k}\")\n",
    "\n",
    "# Enforce max 1 run per day\n",
    "#adds up all possible start times of the dishwasher in a single and '>= 1' day ensures that the dishwasher has to run once per day\n",
    "hours_per_day = 24\n",
    "days = Time_interval // hours_per_day\n",
    "for d in range(days-1):\n",
    "    model.addConstr(gp.quicksum(dishwasher_start[t] for t in range(d * 24, (d + 1) * 24 - duration + 1)) >= 1,\n",
    "                name=f\"max_one_run_per_day_dishwasher_{d}\")\n",
    "\n",
    "# Enforce minimum gap (15 hours) between two starts\n",
    "#multiplying with min_gap so we don't constrain the dishwasher to start at the same time every day\n",
    "#this enures that the optimizer can iterate through without being constrained to a single time\n",
    "for t in range(len(start_times)-min_gap):\n",
    "    model.addConstr(gp.quicksum(dishwasher_start[t + offset] for offset in range(1, min_gap + 1)) <= (1 - dishwasher_start[t]) * min_gap,\n",
    "                name=f\"min_gap_after_{t}\")\n",
    "#print(len(fridge))\n",
    "#print(len(stove))\n",
    "#print(len(tv))\n",
    "#print(len(lighting))\n",
    "#print(len(price))\n",
    "#print(len(dishwasher_start))\n",
    "#print(len(binary_dishwasher))\n",
    "#print(len(start_times))\n",
    "# Total power consumption including fixed and dishwasher\n",
    "total_load = [fridge[t] + stove[t] + tv[t] + lighting[t] + power_dishwasher * binary_dishwasher[t] for t in range(0,720)]\n",
    "\n",
    "# Objective: minimize total electricity cost\n",
    "model.setObjective(gp.quicksum(price[t] * total_load[t] for t in range(720)), GRB.MINIMIZE)\n",
    "\n",
    "# Optimize\n",
    "model.optimize()\n",
    "\n",
    "dishwasher_starts_list = []\n",
    "# Output dishwasher schedule\n",
    "if model.status == GRB.OPTIMAL:\n",
    "    print(f\"Total cost: {model.ObjVal:.2f}\")\n",
    "    for t in range(Time_interval):\n",
    "        if dishwasher_start.get(t) and dishwasher_start[t].X > 0.5:\n",
    "            print(f\"Dishwasher starts at: {p_summer['Date_(GMT+2)'][t]}\")\n",
    "            dishwasher_starts_list.append(p_summer['Date_(GMT+2)'][t])\n"
   ]
  },
  {
   "cell_type": "code",
   "execution_count": 50,
   "id": "5bc14233",
   "metadata": {},
   "outputs": [
    {
     "name": "stdout",
     "output_type": "stream",
     "text": [
      "Dishwasher schedule:\n",
      "['01.08.24 13:00', '02.08.24 07:00', '03.08.24 13:00', '04.08.24 13:00', '05.08.24 12:00', '06.08.24 12:00', '07.08.24 13:00', '08.08.24 13:00', '09.08.24 12:00', '10.08.24 13:00', '11.08.24 13:00', '12.08.24 12:00', '13.08.24 12:00', '14.08.24 21:00', '15.08.24 13:00', '16.08.24 12:00', '17.08.24 13:00', '18.08.24 13:00', '19.08.24 12:00', '20.08.24 12:00', '21.08.24 13:00', '22.08.24 12:00', '23.08.24 12:00', '24.08.24 13:00', '25.08.24 13:00', '26.08.24 12:00', '27.08.24 12:00', '28.08.24 12:00', '29.08.24 12:00', '30.08.24 12:00']\n"
     ]
    }
   ],
   "source": [
    "print(\"Dishwasher schedule:\")\n",
    "print(dishwasher_starts_list)"
   ]
  },
  {
   "cell_type": "code",
   "execution_count": null,
   "id": "bf59f13b",
   "metadata": {},
   "outputs": [],
   "source": []
  }
 ],
 "metadata": {
  "kernelspec": {
   "display_name": "optimization_project",
   "language": "python",
   "name": "python3"
  },
  "language_info": {
   "codemirror_mode": {
    "name": "ipython",
    "version": 3
   },
   "file_extension": ".py",
   "mimetype": "text/x-python",
   "name": "python",
   "nbconvert_exporter": "python",
   "pygments_lexer": "ipython3",
   "version": "3.10.16"
  }
 },
 "nbformat": 4,
 "nbformat_minor": 5
}
